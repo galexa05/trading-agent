{
 "cells": [
  {
   "cell_type": "code",
   "execution_count": 1,
   "id": "85316d66",
   "metadata": {},
   "outputs": [],
   "source": [
    "# Add this to the top of your notebook for auto-reloading\n",
    "%load_ext autoreload\n",
    "%autoreload 2"
   ]
  },
  {
   "cell_type": "code",
   "execution_count": 2,
   "id": "5b006781",
   "metadata": {},
   "outputs": [],
   "source": [
    "import sys\n",
    "# sys.path.append('../scripts')\n",
    "import os\n",
    "sys.path.append(os.path.abspath(os.path.join(os.getcwd(), '..')))\n",
    "from scripts.collect_articles import NewsDataCollector\n"
   ]
  },
  {
   "cell_type": "code",
   "execution_count": 3,
   "id": "b5d7b5e1",
   "metadata": {},
   "outputs": [
    {
     "data": {
      "text/plain": [
       "True"
      ]
     },
     "execution_count": 3,
     "metadata": {},
     "output_type": "execute_result"
    }
   ],
   "source": [
    "from dotenv import load_dotenv\n",
    "load_dotenv()"
   ]
  },
  {
   "cell_type": "code",
   "execution_count": 4,
   "id": "8e3df30c",
   "metadata": {},
   "outputs": [],
   "source": [
    "API_KEY = os.getenv('NEWS_DATA_API')\n",
    "DATA_DIR = '../data/stock_portfolios/'"
   ]
  },
  {
   "cell_type": "code",
   "execution_count": 5,
   "id": "1aa2eca0",
   "metadata": {},
   "outputs": [],
   "source": [
    "dc = NewsDataCollector(api_key=API_KEY,data_dir=DATA_DIR)"
   ]
  },
  {
   "cell_type": "code",
   "execution_count": null,
   "id": "c3f82d26",
   "metadata": {},
   "outputs": [],
   "source": [
    "tech_portfolio = [\"AAPL\", \"MSFT\", \"GOOGL\", \"AMZN\", \"NVDA\", \"META\", \"TSLA\", \"ADBE\", \"CRM\", \"INTC\"]"
   ]
  },
  {
   "cell_type": "code",
   "execution_count": null,
   "id": "9c07b57f",
   "metadata": {},
   "outputs": [
    {
     "name": "stdout",
     "output_type": "stream",
     "text": [
      "Fetching articles for AAPL...\n",
      "Fetching articles for MSFT...\n",
      "Fetching articles for GOOGL...\n",
      "Fetching articles for AMZN...\n",
      "Fetching articles for NVDA...\n",
      "Fetching articles for META...\n",
      "Fetching articles for TSLA...\n",
      "Fetching articles for ADBE...\n",
      "Fetching articles for CRM...\n",
      "Fetching articles for INTC...\n",
      "Found 244 unique articles for portfolio of 10 stocks\n",
      "Saved portfolio articles to ../data/stock_portfolios/portfolio_articles\n"
     ]
    }
   ],
   "source": [
    "articles_dict = \\\n",
    "    dc.fetch_portfolio_articles(\n",
    "        tickers= tech_portfolio,\n",
    "        max_iterations_per_ticker=5,\n",
    "        pickle_name='portfolio_articles.pkl'\n",
    "    )"
   ]
  },
  {
   "cell_type": "code",
   "execution_count": null,
   "id": "53d76daa",
   "metadata": {},
   "outputs": [],
   "source": [
    "# articles_dict = \\\n",
    "# dc.fetch_articles(\n",
    "#     query='AAPL',\n",
    "#     max_iterations=10\n",
    "# )"
   ]
  },
  {
   "cell_type": "code",
   "execution_count": 8,
   "id": "27435f07",
   "metadata": {},
   "outputs": [],
   "source": [
    "articles_full_context = \\\n",
    "dc.enrich_articles_context(\n",
    "    article_dict=articles_dict\n",
    ")"
   ]
  }
 ],
 "metadata": {
  "kernelspec": {
   "display_name": "trading-agent-Iwjhydeb",
   "language": "python",
   "name": "python3"
  },
  "language_info": {
   "codemirror_mode": {
    "name": "ipython",
    "version": 3
   },
   "file_extension": ".py",
   "mimetype": "text/x-python",
   "name": "python",
   "nbconvert_exporter": "python",
   "pygments_lexer": "ipython3",
   "version": "3.12.6"
  }
 },
 "nbformat": 4,
 "nbformat_minor": 5
}
