{
 "cells": [
  {
   "cell_type": "markdown",
   "metadata": {},
   "source": [
    "# Financial Articles Vector Database Walkthrough\n",
    "\n",
    "This notebook demonstrates how to use the vector database functionality to process financial articles about AAPL stock and create a searchable vector database using ChromaDB and sentence-transformers.\n",
    "\n",
    "## Prerequisites\n",
    "\n",
    "Before starting, make sure you have installed all necessary packages:"
   ]
  },
  {
   "cell_type": "code",
   "execution_count": 1,
   "metadata": {},
   "outputs": [],
   "source": [
    "# Install required packages\n",
    "# !pip install chromadb sentence-transformers langchain pandas"
   ]
  },
  {
   "cell_type": "markdown",
   "metadata": {},
   "source": [
    "## 1. Import Libraries and Setup\n",
    "\n",
    "First, let's import our custom vector_db module and other necessary libraries:"
   ]
  },
  {
   "cell_type": "code",
   "execution_count": 4,
   "metadata": {},
   "outputs": [],
   "source": [
    "import sys\n",
    "import os\n",
    "import pandas as pd\n",
    "import matplotlib.pyplot as plt\n",
    "import seaborn as sns\n",
    "\n",
    "# Add the scripts directory to the Python path\n",
    "scripts_dir = os.path.abspath('../scripts')\n",
    "if scripts_dir not in sys.path:\n",
    "    sys.path.append(scripts_dir)\n",
    "\n",
    "# Import our vector database utilities\n",
    "import vector_db as vdb\n",
    "\n",
    "# Set up visualization\n",
    "sns.set_style('whitegrid')\n",
    "plt.rcParams['figure.figsize'] = (12, 8)"
   ]
  },
  {
   "cell_type": "markdown",
   "metadata": {},
   "source": [
    "## 2. Explore the Articles Dataset\n",
    "\n",
    "Let's first examine the financial articles CSV file to understand its structure:"
   ]
  },
  {
   "cell_type": "code",
   "execution_count": 5,
   "metadata": {},
   "outputs": [
    {
     "data": {
      "text/html": [
       "<div>\n",
       "<style scoped>\n",
       "    .dataframe tbody tr th:only-of-type {\n",
       "        vertical-align: middle;\n",
       "    }\n",
       "\n",
       "    .dataframe tbody tr th {\n",
       "        vertical-align: top;\n",
       "    }\n",
       "\n",
       "    .dataframe thead th {\n",
       "        text-align: right;\n",
       "    }\n",
       "</style>\n",
       "<table border=\"1\" class=\"dataframe\">\n",
       "  <thead>\n",
       "    <tr style=\"text-align: right;\">\n",
       "      <th></th>\n",
       "      <th>article_id</th>\n",
       "      <th>pubDate</th>\n",
       "      <th>pubDateTZ</th>\n",
       "      <th>title</th>\n",
       "      <th>link</th>\n",
       "      <th>creator</th>\n",
       "      <th>description</th>\n",
       "      <th>source_id</th>\n",
       "      <th>source_name</th>\n",
       "      <th>source_url</th>\n",
       "      <th>source_icon</th>\n",
       "      <th>summary</th>\n",
       "      <th>text</th>\n",
       "    </tr>\n",
       "  </thead>\n",
       "  <tbody>\n",
       "    <tr>\n",
       "      <th>0</th>\n",
       "      <td>d7aa02673ca360f7a97d471201530e30</td>\n",
       "      <td>2025-05-13 18:00:31</td>\n",
       "      <td>UTC</td>\n",
       "      <td>What Does the Market Think About Apple?</td>\n",
       "      <td>https://www.benzinga.com/insights/short-seller...</td>\n",
       "      <td>Benzinga Insights</td>\n",
       "      <td>Apple's (NYSE:AAPL) short percent of float has...</td>\n",
       "      <td>benzinga</td>\n",
       "      <td>Benzinga</td>\n",
       "      <td>https://www.benzinga.com</td>\n",
       "      <td>https://i.bytvi.com/domain_icons/benzinga.png</td>\n",
       "      <td>The company recently reported that it has 108....</td>\n",
       "      <td>Apple's AAPL short percent of float has fallen...</td>\n",
       "    </tr>\n",
       "    <tr>\n",
       "      <th>1</th>\n",
       "      <td>339e1027f456beffa954cc954229a0d0</td>\n",
       "      <td>2025-05-13 17:28:31</td>\n",
       "      <td>UTC</td>\n",
       "      <td>Gordon Reid’s Top Picks for May 13, 2025</td>\n",
       "      <td>https://www.bnnbloomberg.ca/markets/2025/05/13...</td>\n",
       "      <td>BNNBloomberg</td>\n",
       "      <td>NaN</td>\n",
       "      <td>bnnbloomberg_ca</td>\n",
       "      <td>Bnn Bloomberg</td>\n",
       "      <td>https://www.bnnbloomberg.ca</td>\n",
       "      <td>https://i.bytvi.com/domain_icons/bnnbloomberg_...</td>\n",
       "      <td>Gordon Reid, president and CEO at Goodreid Inv...</td>\n",
       "      <td>Gordon Reid, president and CEO at Goodreid Inv...</td>\n",
       "    </tr>\n",
       "  </tbody>\n",
       "</table>\n",
       "</div>"
      ],
      "text/plain": [
       "                         article_id              pubDate pubDateTZ  \\\n",
       "0  d7aa02673ca360f7a97d471201530e30  2025-05-13 18:00:31       UTC   \n",
       "1  339e1027f456beffa954cc954229a0d0  2025-05-13 17:28:31       UTC   \n",
       "\n",
       "                                      title  \\\n",
       "0   What Does the Market Think About Apple?   \n",
       "1  Gordon Reid’s Top Picks for May 13, 2025   \n",
       "\n",
       "                                                link            creator  \\\n",
       "0  https://www.benzinga.com/insights/short-seller...  Benzinga Insights   \n",
       "1  https://www.bnnbloomberg.ca/markets/2025/05/13...       BNNBloomberg   \n",
       "\n",
       "                                         description        source_id  \\\n",
       "0  Apple's (NYSE:AAPL) short percent of float has...         benzinga   \n",
       "1                                                NaN  bnnbloomberg_ca   \n",
       "\n",
       "     source_name                   source_url  \\\n",
       "0       Benzinga     https://www.benzinga.com   \n",
       "1  Bnn Bloomberg  https://www.bnnbloomberg.ca   \n",
       "\n",
       "                                         source_icon  \\\n",
       "0      https://i.bytvi.com/domain_icons/benzinga.png   \n",
       "1  https://i.bytvi.com/domain_icons/bnnbloomberg_...   \n",
       "\n",
       "                                             summary  \\\n",
       "0  The company recently reported that it has 108....   \n",
       "1  Gordon Reid, president and CEO at Goodreid Inv...   \n",
       "\n",
       "                                                text  \n",
       "0  Apple's AAPL short percent of float has fallen...  \n",
       "1  Gordon Reid, president and CEO at Goodreid Inv...  "
      ]
     },
     "execution_count": 5,
     "metadata": {},
     "output_type": "execute_result"
    }
   ],
   "source": [
    "# Load the articles CSV\n",
    "articles_path = '../data/articles.csv'\n",
    "articles_df = pd.read_csv(articles_path)\n",
    "\n",
    "# Display the first few rows\n",
    "articles_df.head(2)"
   ]
  },
  {
   "cell_type": "code",
   "execution_count": 6,
   "metadata": {},
   "outputs": [
    {
     "name": "stdout",
     "output_type": "stream",
     "text": [
      "Number of articles: 117\n",
      "\n",
      "Columns in the dataset:\n",
      "['article_id', 'pubDate', 'pubDateTZ', 'title', 'link', 'creator', 'description', 'source_id', 'source_name', 'source_url', 'source_icon', 'summary', 'text']\n",
      "\n",
      "Missing values per column:\n",
      "creator        12\n",
      "description    20\n",
      "summary         6\n",
      "text            6\n",
      "dtype: int64\n"
     ]
    }
   ],
   "source": [
    "# Basic information about the dataset\n",
    "print(f\"Number of articles: {len(articles_df)}\")\n",
    "print(f\"\\nColumns in the dataset:\\n{articles_df.columns.tolist()}\")\n",
    "\n",
    "# Check for missing values\n",
    "missing_values = articles_df.isnull().sum()\n",
    "print(f\"\\nMissing values per column:\\n{missing_values[missing_values > 0]}\")"
   ]
  },
  {
   "cell_type": "code",
   "execution_count": 7,
   "metadata": {},
   "outputs": [
    {
     "data": {
      "image/png": "[encoded data removed]",
      "text/plain": [
       "<Figure size 1000x600 with 1 Axes>"
      ]
     },
     "metadata": {},
     "output_type": "display_data"
    },
    {
     "name": "stdout",
     "output_type": "stream",
     "text": [
      "Average article length: 5501.67 characters\n",
      "Median article length: 6401.00 characters\n",
      "Min article length: 160.00 characters\n",
      "Max article length: 10079.00 characters\n"
     ]
    }
   ],
   "source": [
    "# Analyze text length distribution\n",
    "articles_df['text_length'] = articles_df['text'].str.len()\n",
    "\n",
    "plt.figure(figsize=(10, 6))\n",
    "sns.histplot(articles_df['text_length'], bins=30)\n",
    "plt.title('Distribution of Article Text Lengths')\n",
    "plt.xlabel('Text Length (characters)')\n",
    "plt.ylabel('Count')\n",
    "plt.show()\n",
    "\n",
    "print(f\"Average article length: {articles_df['text_length'].mean():.2f} characters\")\n",
    "print(f\"Median article length: {articles_df['text_length'].median():.2f} characters\")\n",
    "print(f\"Min article length: {articles_df['text_length'].min():.2f} characters\")\n",
    "print(f\"Max article length: {articles_df['text_length'].max():.2f} characters\")"
   ]
  },
  {
   "cell_type": "markdown",
   "metadata": {},
   "source": [
    "## 3. Initialize the Embedding Model\n",
    "\n",
    "Now, let's initialize the embedding model. We'll use the all-MiniLM-L6-v2 model from sentence-transformers, which provides a good balance between quality and efficiency for text embeddings."
   ]
  },
  {
   "cell_type": "code",
   "execution_count": 8,
   "metadata": {},
   "outputs": [
    {
     "name": "stderr",
     "output_type": "stream",
     "text": [
      "/Users/giannisalexandrou/.local/share/virtualenvs/trading-agent-Iwjhydeb/lib/python3.12/site-packages/tqdm/auto.py:21: TqdmWarning: IProgress not found. Please update jupyter and ipywidgets. See https://ipywidgets.readthedocs.io/en/stable/user_install.html\n",
      "  from .autonotebook import tqdm as notebook_tqdm\n"
     ]
    },
    {
     "name": "stdout",
     "output_type": "stream",
     "text": [
      "Initialized embedding model: all-MiniLM-L6-v2\n"
     ]
    }
   ],
   "source": [
    "# Initialize the embedding model\n",
    "embedding_function = vdb.init_embedding_model()\n",
    "print(f\"Initialized embedding model: {vdb.DEFAULT_MODEL}\")"
   ]
  },
  {
   "cell_type": "markdown",
   "metadata": {},
   "source": [
    "Let's test the embedding model on a sample text to see what the embeddings look like:"
   ]
  },
  {
   "cell_type": "code",
   "execution_count": null,
   "metadata": {},
   "outputs": [],
   "source": [
    "# Get a sample text from our dataset\n",
    "sample_text = articles_df['text'].iloc[0][:500]  # Taking first 500 chars of first article\n",
    "print(f\"Sample text:\\n{sample_text}\\n\")\n",
    "\n",
    "# Generate embedding\n",
    "sample_embedding = embedding_function([sample_text])[0]\n",
    "\n",
    "# Display embedding information\n",
    "print(f\"Embedding shape: {len(sample_embedding)}\")\n",
    "print(f\"Embedding type: {type(sample_embedding)}\")\n",
    "print(f\"First 10 values of the embedding:\\n{sample_embedding[:10]}\")"
   ]
  },
  {
   "cell_type": "markdown",
   "metadata": {},
   "source": [
    "## 4. Initialize the Vector Database\n",
    "\n",
    "Next, we'll initialize ChromaDB to store our vector embeddings:"
   ]
  },
  {
   "cell_type": "code",
   "execution_count": null,
   "metadata": {},
   "outputs": [],
   "source": [
    "# Initialize a new database with a specific collection name\n",
    "collection_name = \"apple_financial_articles\"\n",
    "db_path = \"../data/chroma_db\"\n",
    "\n",
    "# Clean up any existing collection if needed\n",
    "# Uncomment the following line to delete an existing collection\n",
    "# vdb.delete_collection(collection_name=collection_name, persist_directory=db_path)\n",
    "\n",
    "# Initialize the database and collection\n",
    "chroma_client, collection = vdb.init_vector_db(\n",
    "    persist_directory=db_path,\n",
    "    embedding_function=embedding_function,\n",
    "    collection_name=collection_name\n",
    ")"
   ]
  },
  {
   "cell_type": "markdown",
   "metadata": {},
   "source": [
    "## 5. Process Articles and Load into the Vector Database\n",
    "\n",
    "Now, we'll split the articles into chunks and load them into the vector database:"
   ]
  },
  {
   "cell_type": "code",
   "execution_count": null,
   "metadata": {},
   "outputs": [],
   "source": [
    "# Create a text splitter with custom chunk size and overlap\n",
    "text_splitter = vdb.create_text_splitter(chunk_size=800, chunk_overlap=100)\n",
    "print(f\"Created text splitter with chunk size {800} and overlap {100}\")"
   ]
  },
  {
   "cell_type": "code",
   "execution_count": null,
   "metadata": {},
   "outputs": [],
   "source": [
    "# Load the articles into the vector database\n",
    "# Let's load just a few articles for demonstration\n",
    "num_articles_processed = vdb.load_articles_to_vectordb(\n",
    "    csv_path=articles_path,\n",
    "    collection=collection,\n",
    "    text_splitter=text_splitter,\n",
    "    batch_size=10,  # Process 10 articles at a time\n",
    "    max_articles=None  # Set to a number to limit processing, None for all articles\n",
    ")\n",
    "\n",
    "print(f\"\\nTotal articles processed: {num_articles_processed}\")"
   ]
  },
  {
   "cell_type": "markdown",
   "metadata": {},
   "source": [
    "## 6. Query the Vector Database\n",
    "\n",
    "Now that we have loaded our articles into the vector database, let's perform some semantic searches:"
   ]
  },
  {
   "cell_type": "code",
   "execution_count": null,
   "metadata": {},
   "outputs": [],
   "source": [
    "# Define a function to display search results nicely\n",
    "def display_search_results(results, limit=3):\n",
    "    if not results or 'documents' not in results or not results['documents']:\n",
    "        print(\"No results found.\")\n",
    "        return\n",
    "    \n",
    "    documents = results['documents'][0]\n",
    "    metadatas = results['metadatas'][0]\n",
    "    distances = results['distances'][0]\n",
    "    \n",
    "    print(f\"Found {len(documents)} results. Showing top {min(limit, len(documents))}:\\n\")\n",
    "    \n",
    "    for i in range(min(limit, len(documents))):\n",
    "        print(f\"Result #{i+1} (Similarity: {1-distances[i]:.4f})\")\n",
    "        print(f\"Title: {metadatas[i]['title']}\")\n",
    "        print(f\"Source: {metadatas[i]['source']}\")\n",
    "        print(f\"Date: {metadatas[i]['pubDate']}\")\n",
    "        print(f\"Chunk: {metadatas[i]['chunk_index']+1} of {metadatas[i]['total_chunks']}\")\n",
    "        print(f\"\\nEXCERPT:\\n{documents[i][:300]}...\\n\")\n",
    "        print(\"-\" * 80)"
   ]
  },
  {
   "cell_type": "code",
   "execution_count": null,
   "metadata": {},
   "outputs": [],
   "source": [
    "# Simple search for Apple's financial performance\n",
    "query1 = \"Apple's financial performance and quarterly earnings\"\n",
    "results1 = vdb.query_vector_db(query1, collection=collection, n_results=5)\n",
    "display_search_results(results1)"
   ]
  },
  {
   "cell_type": "code",
   "execution_count": null,
   "metadata": {},
   "outputs": [],
   "source": [
    "# Search with metadata filtering (articles from a specific source)\n",
    "query2 = \"Apple stock market sentiment\"\n",
    "results2 = vdb.query_vector_db(\n",
    "    query2, \n",
    "    collection=collection, \n",
    "    n_results=5,\n",
    "    where={\"source\": \"Benzinga\"}\n",
    ")\n",
    "display_search_results(results2)"
   ]
  },
  {
   "cell_type": "code",
   "execution_count": null,
   "metadata": {},
   "outputs": [],
   "source": [
    "# Search for market trends related to Apple\n",
    "query3 = \"Apple's position relative to competitors in the tech market\"\n",
    "results3 = vdb.query_vector_db(query3, collection=collection, n_results=5)\n",
    "display_search_results(results3)"
   ]
  },
  {
   "cell_type": "markdown",
   "metadata": {},
   "source": [
    "## 7. Retrieve Complete Articles\n",
    "\n",
    "Now, let's demonstrate how to retrieve a complete article by its ID:"
   ]
  },
  {
   "cell_type": "code",
   "execution_count": null,
   "metadata": {},
   "outputs": [],
   "source": [
    "# Get a sample article ID from our results\n",
    "sample_article_id = results1['metadatas'][0][0]['article_id']\n",
    "print(f\"Retrieving article with ID: {sample_article_id}\\n\")\n",
    "\n",
    "# Retrieve the full article\n",
    "article_data = vdb.get_article_by_id(sample_article_id, collection=collection)\n",
    "\n",
    "# Display article information\n",
    "print(f\"Article Title: {article_data.get('title', 'N/A')}\")\n",
    "print(f\"Publication Date: {article_data.get('pubDate', 'N/A')}\")\n",
    "print(f\"Source: {article_data.get('source', 'N/A')}\")\n",
    "print(f\"\\nARTICLE TEXT (first 500 characters):\\n{article_data.get('text', '')[:500]}...\")"
   ]
  },
  {
   "cell_type": "markdown",
   "metadata": {},
   "source": [
    "## 8. Advanced Query Techniques\n",
    "\n",
    "Let's explore some more advanced query techniques with our vector database:"
   ]
  },
  {
   "cell_type": "code",
   "execution_count": null,
   "metadata": {},
   "outputs": [],
   "source": [
    "# Create a composite query by combining multiple concepts\n",
    "composite_query = \"Apple's earnings impact on stock price and market response\"\n",
    "composite_results = vdb.query_vector_db(composite_query, collection=collection, n_results=3)\n",
    "display_search_results(composite_results)"
   ]
  },
  {
   "cell_type": "code",
   "execution_count": null,
   "metadata": {},
   "outputs": [],
   "source": [
    "# Compare different queries and their results\n",
    "queries = [\n",
    "    \"Apple's financial outlook\",\n",
    "    \"Apple's product strategy\",\n",
    "    \"Apple's stock performance\",\n",
    "    \"Market sentiment about Apple\"\n",
    "]\n",
    "\n",
    "for query in queries:\n",
    "    print(f\"\\nQUERY: {query}\")\n",
    "    print(\"-\" * 50)\n",
    "    results = vdb.query_vector_db(query, collection=collection, n_results=1)\n",
    "    display_search_results(results, limit=1)"
   ]
  },
  {
   "cell_type": "markdown",
   "metadata": {},
   "source": [
    "## 9. Vector Database Statistics and Insights\n",
    "\n",
    "Let's get some information about our vector database:"
   ]
  },
  {
   "cell_type": "code",
   "execution_count": null,
   "metadata": {},
   "outputs": [],
   "source": [
    "# Get collection info\n",
    "collection_info = collection.count()\n",
    "print(f\"Total documents in collection: {collection_info}\")\n",
    "\n",
    "# Get unique article IDs\n",
    "all_metadata = collection.get(include=[\"metadatas\"])[\"metadatas\"]\n",
    "unique_articles = set(meta[\"article_id\"] for meta in all_metadata)\n",
    "print(f\"Number of unique articles: {len(unique_articles)}\")\n",
    "\n",
    "# Average chunks per article\n",
    "avg_chunks = collection_info / len(unique_articles) if unique_articles else 0\n",
    "print(f\"Average chunks per article: {avg_chunks:.2f}\")"
   ]
  },
  {
   "cell_type": "markdown",
   "metadata": {},
   "source": [
    "## 10. Conclusion\n",
    "\n",
    "In this notebook, we have demonstrated how to:\n",
    "\n",
    "1. Initialize a sentence-transformer embedding model\n",
    "2. Set up a ChromaDB vector database\n",
    "3. Process financial articles by splitting them into chunks\n",
    "4. Store these chunks with metadata in the vector database\n",
    "5. Perform semantic searches on the articles\n",
    "6. Retrieve and reconstruct full articles\n",
    "\n",
    "This approach allows for efficient retrieval of relevant financial information from a large collection of articles about Apple stock. The vector database can be extended with more articles and integrated into applications for financial analysis, market sentiment tracking, or automated reporting."
   ]
  }
 ],
 "metadata": {
  "kernelspec": {
   "display_name": "trading-agent-Iwjhydeb",
   "language": "python",
   "name": "python3"
  },
  "language_info": {
   "codemirror_mode": {
    "name": "ipython",
    "version": 3
   },
   "file_extension": ".py",
   "mimetype": "text/x-python",
   "name": "python",
   "nbconvert_exporter": "python",
   "pygments_lexer": "ipython3",
   "version": "3.12.6"
  }
 },
 "nbformat": 4,
 "nbformat_minor": 4
}
