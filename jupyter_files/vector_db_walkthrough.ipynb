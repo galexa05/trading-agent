{
 "cells": [
  {
   "cell_type": "markdown",
   "metadata": {},
   "source": [
    "# Financial Articles Vector Database Walkthrough\n",
    "\n",
    "This notebook demonstrates how to use the vector database functionality to process financial articles about AAPL stock and create a searchable vector database using ChromaDB and sentence-transformers.\n",
    "\n",
    "## Prerequisites\n",
    "\n",
    "Before starting, make sure you have installed all necessary packages:"
   ]
  },
  {
   "cell_type": "code",
   "execution_count": 1,
   "metadata": {},
   "outputs": [],
   "source": [
    "# Install required packages\n",
    "# !pip install chromadb sentence-transformers langchain pandas"
   ]
  },
  {
   "cell_type": "markdown",
   "metadata": {},
   "source": [
    "## 1. Import Libraries and Setup\n",
    "\n",
    "First, let's import our custom vector_db module and other necessary libraries:"
   ]
  },
  {
   "cell_type": "code",
   "execution_count": 21,
   "metadata": {},
   "outputs": [],
   "source": [
    "import sys\n",
    "import os\n",
    "import pandas as pd\n",
    "import matplotlib.pyplot as plt\n",
    "import seaborn as sns\n",
    "\n",
    "# Add the scripts directory to the Python path\n",
    "scripts_dir = os.path.abspath('../scripts')\n",
    "if scripts_dir not in sys.path:\n",
    "    sys.path.append(scripts_dir)\n",
    "\n",
    "# Import our vector database utilities\n",
    "import vector_db as vdb\n",
    "\n",
    "# Set up visualization\n",
    "sns.set_style('whitegrid')\n",
    "plt.rcParams['figure.figsize'] = (12, 8)"
   ]
  },
  {
   "cell_type": "markdown",
   "metadata": {},
   "source": [
    "## 2. Explore the Articles Dataset\n",
    "\n",
    "Let's first examine the financial articles CSV file to understand its structure:"
   ]
  },
  {
   "cell_type": "code",
   "execution_count": 31,
   "metadata": {},
   "outputs": [
    {
     "data": {
      "text/html": [
       "<div>\n",
       "<style scoped>\n",
       "    .dataframe tbody tr th:only-of-type {\n",
       "        vertical-align: middle;\n",
       "    }\n",
       "\n",
       "    .dataframe tbody tr th {\n",
       "        vertical-align: top;\n",
       "    }\n",
       "\n",
       "    .dataframe thead th {\n",
       "        text-align: right;\n",
       "    }\n",
       "</style>\n",
       "<table border=\"1\" class=\"dataframe\">\n",
       "  <thead>\n",
       "    <tr style=\"text-align: right;\">\n",
       "      <th></th>\n",
       "      <th>article_id</th>\n",
       "      <th>pubDate</th>\n",
       "      <th>pubDateTZ</th>\n",
       "      <th>title</th>\n",
       "      <th>link</th>\n",
       "      <th>creator</th>\n",
       "      <th>description</th>\n",
       "      <th>source_id</th>\n",
       "      <th>source_name</th>\n",
       "      <th>source_url</th>\n",
       "      <th>source_icon</th>\n",
       "      <th>summary</th>\n",
       "      <th>text</th>\n",
       "    </tr>\n",
       "  </thead>\n",
       "  <tbody>\n",
       "    <tr>\n",
       "      <th>0</th>\n",
       "      <td>3b9e54e82ce177819af51c87c7473262</td>\n",
       "      <td>2025-05-16 18:53:39</td>\n",
       "      <td>UTC</td>\n",
       "      <td>Apple Stock: President Trump Had A Point In Qa...</td>\n",
       "      <td>https://seekingalpha.com/article/4787688-apple...</td>\n",
       "      <td>NaN</td>\n",
       "      <td>NaN</td>\n",
       "      <td>seekingalpha</td>\n",
       "      <td>Seeking Alpha</td>\n",
       "      <td>https://seekingalpha.com</td>\n",
       "      <td>https://i.bytvi.com/domain_icons/seekingalpha.png</td>\n",
       "      <td>NaN</td>\n",
       "      <td>NaN</td>\n",
       "    </tr>\n",
       "    <tr>\n",
       "      <th>1</th>\n",
       "      <td>bbbd1e44d96c98ab06769f13f6d697a0</td>\n",
       "      <td>2025-05-16 18:30:54</td>\n",
       "      <td>UTC</td>\n",
       "      <td>Analyst Lowers Target Q1 Forecast Amid Spendin...</td>\n",
       "      <td>https://www.benzinga.com/analyst-ratings/analy...</td>\n",
       "      <td>Nabaparna Bhattacharya</td>\n",
       "      <td>Telsey Advisory Group analyst Joseph Feldman r...</td>\n",
       "      <td>benzinga</td>\n",
       "      <td>Benzinga</td>\n",
       "      <td>https://www.benzinga.com</td>\n",
       "      <td>https://i.bytvi.com/domain_icons/benzinga.png</td>\n",
       "      <td>Telsey Advisory Group analyst Joseph Feldman r...</td>\n",
       "      <td>Telsey Advisory Group analyst Joseph Feldman r...</td>\n",
       "    </tr>\n",
       "  </tbody>\n",
       "</table>\n",
       "</div>"
      ],
      "text/plain": [
       "                         article_id              pubDate pubDateTZ  \\\n",
       "0  3b9e54e82ce177819af51c87c7473262  2025-05-16 18:53:39       UTC   \n",
       "1  bbbd1e44d96c98ab06769f13f6d697a0  2025-05-16 18:30:54       UTC   \n",
       "\n",
       "                                               title  \\\n",
       "0  Apple Stock: President Trump Had A Point In Qa...   \n",
       "1  Analyst Lowers Target Q1 Forecast Amid Spendin...   \n",
       "\n",
       "                                                link                 creator  \\\n",
       "0  https://seekingalpha.com/article/4787688-apple...                     NaN   \n",
       "1  https://www.benzinga.com/analyst-ratings/analy...  Nabaparna Bhattacharya   \n",
       "\n",
       "                                         description     source_id  \\\n",
       "0                                                NaN  seekingalpha   \n",
       "1  Telsey Advisory Group analyst Joseph Feldman r...      benzinga   \n",
       "\n",
       "     source_name                source_url  \\\n",
       "0  Seeking Alpha  https://seekingalpha.com   \n",
       "1       Benzinga  https://www.benzinga.com   \n",
       "\n",
       "                                         source_icon  \\\n",
       "0  https://i.bytvi.com/domain_icons/seekingalpha.png   \n",
       "1      https://i.bytvi.com/domain_icons/benzinga.png   \n",
       "\n",
       "                                             summary  \\\n",
       "0                                                NaN   \n",
       "1  Telsey Advisory Group analyst Joseph Feldman r...   \n",
       "\n",
       "                                                text  \n",
       "0                                                NaN  \n",
       "1  Telsey Advisory Group analyst Joseph Feldman r...  "
      ]
     },
     "execution_count": 31,
     "metadata": {},
     "output_type": "execute_result"
    }
   ],
   "source": [
    "# Load the articles CSV\n",
    "DATA_DIR = '../data/stock_portfolios'\n",
    "articles_path = f'{DATA_DIR}/articles.csv'\n",
    "articles_df = pd.read_csv(articles_path)\n",
    "\n",
    "# Display the first few rows\n",
    "articles_df.head(2)"
   ]
  },
  {
   "cell_type": "code",
   "execution_count": 51,
   "metadata": {},
   "outputs": [],
   "source": [
    "articles_df_cleaned =  articles_df[~articles_df['text'].isna()]"
   ]
  },
  {
   "cell_type": "code",
   "execution_count": 53,
   "metadata": {},
   "outputs": [
    {
     "name": "stdout",
     "output_type": "stream",
     "text": [
      "Number of articles: 202\n",
      "\n",
      "Columns in the dataset:\n",
      "['article_id', 'pubDate', 'pubDateTZ', 'title', 'link', 'creator', 'description', 'source_id', 'source_name', 'source_url', 'source_icon', 'summary', 'text']\n",
      "\n",
      "Missing values per column:\n",
      "creator        15\n",
      "description    32\n",
      "dtype: int64\n"
     ]
    }
   ],
   "source": [
    "# Basic information about the dataset\n",
    "print(f\"Number of articles: {len(articles_df_cleaned)}\")\n",
    "print(f\"\\nColumns in the dataset:\\n{articles_df_cleaned.columns.tolist()}\")\n",
    "\n",
    "# Check for missing values\n",
    "missing_values = articles_df_cleaned.isnull().sum()\n",
    "print(f\"\\nMissing values per column:\\n{missing_values[missing_values > 0]}\")"
   ]
  },
  {
   "cell_type": "code",
   "execution_count": 76,
   "metadata": {},
   "outputs": [
    {
     "name": "stdout",
     "output_type": "stream",
     "text": [
      "31 analysts have expressed a variety of opinions on Apple AAPL over the past quarter, offering a diverse set of opinions from bullish to bearish.\n",
      "Deciphering Analyst Ratings: An In-Depth AnalysisIn examining recent analyst actions, we gain insights into how financial experts perceive Apple.\n",
      "Responding to changing market dynamics and company performance, analysts update their recommendations.\n",
      "With an impressive ROE of 37.11%, the company demonstrates effective use of equity capital and strong financial performance.\n",
      "These specialists diligently analyze company financial statements, participate in conference calls, and engage with insiders to generate quarterly ratings for individual stocks.\n"
     ]
    }
   ],
   "source": [
    "print(articles_df_cleaned[articles_df_cleaned['text_length']>5000][['description','summary','text']].iloc[0]['summary'])"
   ]
  },
  {
   "cell_type": "code",
   "execution_count": 61,
   "metadata": {},
   "outputs": [
    {
     "name": "stdout",
     "output_type": "stream",
     "text": [
      "31 analysts have expressed a variety of opinions on Apple AAPL over the past quarter, offering a diverse set of opinions from bullish to bearish.\n",
      "\n",
      "The table below provides a snapshot of their recent ratings, showcasing how sentiments have evolved over the past 30 days and comparing them to the preceding months.\n",
      "\n",
      "Bullish Somewhat Bullish Indifferent Somewhat Bearish Bearish Total Ratings 13 10 5 3 0 Last 30D 0 1 0 0 0 1M Ago 4 3 3 2 0 2M Ago 8 3 2 1 0 3M Ago 1 3 0 0 0\n",
      "\n",
      "Analysts have recently evaluated Apple and provided 12-month price targets. The average target is $243.8, accompanied by a high estimate of $325.00 and a low estimate of $167.88. Highlighting a 4.41% decrease, the current average has fallen from the previous average price target of $255.05.\n",
      "\n",
      "Deciphering Analyst Ratings: An In-Depth Analysis\n",
      "\n",
      "In examining recent analyst actions, we gain insights into how financial experts perceive Apple. The following summary outlines key analysts, their recent evaluations, and adjustments to ratings and price targets.\n",
      "\n",
      "Analyst Analyst Firm Action Taken Rating Current Price Target Prior Price Target Daniel Ives Wedbush Maintains Outperform $270.00 $270.00 Daniel Ives Wedbush Raises Outperform $270.00 $250.00 Barton Crockett Rosenblatt Lowers Neutral $217.00 $263.00 Edison Lee Jefferies Raises Underperform $170.62 $167.88 Gil Luria DA Davidson Raises Buy $250.00 $230.00 Laura Martin Needham Maintains Buy $225.00 $225.00 Barton Crockett Rosenblatt Maintains Buy $263.00 $263.00 Ananda Baruah Loop Capital Lowers Hold $215.00 $230.00 Tim Long Barclays Lowers Underweight $173.00 $197.00 Srini Pajjuir Raymond James Lowers Outperform $230.00 $250.00 Erik Woodring Morgan Stanley Raises Overweight $235.00 $220.00 Michael Ng Goldman Sachs Lowers Buy $256.00 $259.00 David Vogt UBS Lowers Neutral $210.00 $236.00 Atif Malik Citigroup Lowers Buy $245.00 $275.00 Gil Luria DA Davidson Lowers Buy $230.00 $290.00 Samik Chatterjee JP Morgan Lowers Overweight $245.00 $270.00 Laura Martin Needham Maintains Buy $225.00 $225.00 Edison Lee Jefferies Lowers Hold $167.88 $202.33 Brandon Nispel Keybanc Lowers Underweight $170.00 $200.00 Daniel Ives Wedbush Lowers Outperform $250.00 $325.00 Laura Martin Needham Maintains Buy $260.00 $260.00 Edison Lee Jefferies Maintains Hold $202.33 $202.33 Wamsi Mohan B of A Securities Lowers Buy $250.00 $265.00 Ivan Feinseth Tigress Financial Raises Strong Buy $300.00 $295.00 Barton Crockett Rosenblatt Maintains Buy $263.00 $263.00 Michael Ng Goldman Sachs Maintains Buy $294.00 $294.00 Amit Daryanani Evercore ISI Group Raises Outperform $275.00 $260.00 Daniel Ives Wedbush Maintains Outperform $325.00 $325.00 Erik Woodring Morgan Stanley Lowers Overweight $252.00 $275.00 Daniel Ives Wedbush Maintains Outperform $325.00 $325.00 Michael Ng Goldman Sachs Maintains Buy $294.00 $294.00\n",
      "\n",
      "Key Insights:\n",
      "\n",
      "Action Taken: Responding to changing market dynamics and company performance, analysts update their recommendations. Whether they 'Maintain', 'Raise', or 'Lower' their stance, it signifies their response to recent developments related to Apple. This offers insight into analysts' perspectives on the current state of the company.\n",
      "\n",
      "Responding to changing market dynamics and company performance, analysts update their recommendations. Whether they 'Maintain', 'Raise', or 'Lower' their stance, it signifies their response to recent developments related to Apple. This offers insight into analysts' perspectives on the current state of the company. Rating: Unveiling insights, analysts deliver qualitative insights into stock performance, from 'Outperform' to 'Underperform'. These ratings convey expectations for the relative performance of Apple compared to the broader market.\n",
      "\n",
      "Unveiling insights, analysts deliver qualitative insights into stock performance, from 'Outperform' to 'Underperform'. These ratings convey expectations for the relative performance of Apple compared to the broader market. Price Targets: Gaining insights, analysts provide estimates for the future value of Apple's stock. This comparison reveals trends in analysts' expectations over time.\n",
      "\n",
      "For valuable insights into Apple's market performance, consider these analyst evaluations alongside crucial financial indicators. Stay well-informed and make prudent decisions using our Ratings Table.\n",
      "\n",
      "Stay up to date on Apple analyst ratings.\n",
      "\n",
      "All You Need to Know About Apple\n",
      "\n",
      "Apple is among the largest companies in the world, with a broad portfolio of hardware and software products targeted at consumers and businesses. Apple's iPhone makes up a majority of the firm sales, and Apple's other products like Mac, iPad, and Watch are designed around the iPhone as the focal point of an expansive software ecosystem. Apple has progressively worked to add new applications, like streaming video, subscription bundles, and augmented reality. The firm designs its own software and semiconductors while working with subcontractors like Foxconn and TSMC to build its products and chips. Slightly less than half of Apple's sales come directly through its flagship stores, with a majority of sales coming indirectly through partnerships and distribution.\n",
      "\n",
      "Unraveling the Financial Story of Apple\n",
      "\n",
      "Market Capitalization Highlights: Above the industry average, the company's market capitalization signifies a significant scale, indicating strong confidence and market prominence.\n",
      "\n",
      "Revenue Growth: Over the 3M period, Apple showcased positive performance, achieving a revenue growth rate of 5.08% as of 31 March, 2025. This reflects a substantial increase in the company's top-line earnings. When compared to others in the Information Technology sector, the company faces challenges, achieving a growth rate lower than the average among peers.\n",
      "\n",
      "Net Margin: Apple's financial strength is reflected in its exceptional net margin, which exceeds industry averages. With a remarkable net margin of 25.99%, the company showcases strong profitability and effective cost management.\n",
      "\n",
      "Return on Equity (ROE): Apple's ROE stands out, surpassing industry averages. With an impressive ROE of 37.11%, the company demonstrates effective use of equity capital and strong financial performance.\n",
      "\n",
      "Return on Assets (ROA): The company's ROA is a standout performer, exceeding industry averages. With an impressive ROA of 7.34%, the company showcases effective utilization of assets.\n",
      "\n",
      "Debt Management: Apple's debt-to-equity ratio surpasses industry norms, standing at 1.47. This suggests the company carries a substantial amount of debt, posing potential financial challenges.\n",
      "\n",
      "Understanding the Relevance of Analyst Ratings\n",
      "\n",
      "Analyst ratings serve as essential indicators of stock performance, provided by experts in banking and financial systems. These specialists diligently analyze company financial statements, participate in conference calls, and engage with insiders to generate quarterly ratings for individual stocks.\n",
      "\n",
      "Analysts may enhance their evaluations by incorporating forecasts for metrics like growth estimates, earnings, and revenue, delivering additional guidance to investors. It is vital to acknowledge that, although experts in stocks and sectors, analysts are human and express their opinions when providing insights.\n",
      "\n",
      "Breaking: Wall Street's Next Big Mover\n",
      "\n",
      "Benzinga's #1 analyst just identified a stock poised for explosive growth. This under-the-radar company could surge 200%+ as major market shifts unfold. Click here for urgent details.\n",
      "\n",
      "This article was generated by Benzinga's automated content engine and reviewed by an editor.\n"
     ]
    }
   ],
   "source": [
    "print(articles_df_cleaned[articles_df_cleaned['text_length']>5000][['description','summary','text']].iloc[0]['text'])"
   ]
  },
  {
   "cell_type": "code",
   "execution_count": 54,
   "metadata": {},
   "outputs": [
    {
     "name": "stderr",
     "output_type": "stream",
     "text": [
      "/Users/giannisalexandrou/tmp/ipykernel_39391/4204309800.py:2: SettingWithCopyWarning: \n",
      "A value is trying to be set on a copy of a slice from a DataFrame.\n",
      "Try using .loc[row_indexer,col_indexer] = value instead\n",
      "\n",
      "See the caveats in the documentation: https://pandas.pydata.org/pandas-docs/stable/user_guide/indexing.html#returning-a-view-versus-a-copy\n",
      "  articles_df_cleaned['text_length'] = articles_df_cleaned['text'].str.len()\n"
     ]
    },
    {
     "data": {
      "image/png": "[encoded data removed]",
      "text/plain": [
       "<Figure size 1000x600 with 1 Axes>"
      ]
     },
     "metadata": {},
     "output_type": "display_data"
    },
    {
     "name": "stdout",
     "output_type": "stream",
     "text": [
      "Average article length: 5129.22 characters\n",
      "Median article length: 5778.00 characters\n",
      "Min article length: 140.00 characters\n",
      "Max article length: 33354.00 characters\n"
     ]
    }
   ],
   "source": [
    "# Analyze text length distribution\n",
    "articles_df_cleaned['text_length'] = articles_df_cleaned['text'].str.len()\n",
    "\n",
    "plt.figure(figsize=(10, 6))\n",
    "sns.histplot(articles_df_cleaned['text_length'], bins=30)\n",
    "plt.title('Distribution of Article Text Lengths')\n",
    "plt.xlabel('Text Length (characters)')\n",
    "plt.ylabel('Count')\n",
    "plt.show()\n",
    "\n",
    "print(f\"Average article length: {articles_df_cleaned['text_length'].mean():.2f} characters\")\n",
    "print(f\"Median article length: {articles_df_cleaned['text_length'].median():.2f} characters\")\n",
    "print(f\"Min article length: {articles_df_cleaned['text_length'].min():.2f} characters\")\n",
    "print(f\"Max article length: {articles_df_cleaned['text_length'].max():.2f} characters\")"
   ]
  },
  {
   "cell_type": "code",
   "execution_count": 70,
   "metadata": {},
   "outputs": [
    {
     "name": "stderr",
     "output_type": "stream",
     "text": [
      "/Users/giannisalexandrou/tmp/ipykernel_39391/2222251399.py:2: SettingWithCopyWarning: \n",
      "A value is trying to be set on a copy of a slice from a DataFrame.\n",
      "Try using .loc[row_indexer,col_indexer] = value instead\n",
      "\n",
      "See the caveats in the documentation: https://pandas.pydata.org/pandas-docs/stable/user_guide/indexing.html#returning-a-view-versus-a-copy\n",
      "  articles_df_cleaned['desc_length'] = articles_df_cleaned['description'].str.len()\n"
     ]
    },
    {
     "data": {
      "image/png": "[encoded data removed]",
      "text/plain": [
       "<Figure size 1000x600 with 1 Axes>"
      ]
     },
     "metadata": {},
     "output_type": "display_data"
    },
    {
     "name": "stdout",
     "output_type": "stream",
     "text": [
      "Average article length: 767.86 characters\n",
      "Median article length: 359.00 characters\n",
      "Min article length: 57.00 characters\n",
      "Max article length: 30625.00 characters\n"
     ]
    }
   ],
   "source": [
    "# Analyze text length distribution\n",
    "articles_df_cleaned['desc_length'] = articles_df_cleaned['description'].str.len()\n",
    "\n",
    "plt.figure(figsize=(10, 6))\n",
    "sns.histplot(articles_df_cleaned['desc_length'], bins=30)\n",
    "plt.title('Distribution of Article Text Lengths')\n",
    "plt.xlabel('Text Length (characters)')\n",
    "plt.ylabel('Count')\n",
    "plt.show()\n",
    "\n",
    "print(f\"Average article length: {articles_df_cleaned['desc_length'].mean():.2f} characters\")\n",
    "print(f\"Median article length: {articles_df_cleaned['desc_length'].median():.2f} characters\")\n",
    "print(f\"Min article length: {articles_df_cleaned['desc_length'].min():.2f} characters\")\n",
    "print(f\"Max article length: {articles_df_cleaned['desc_length'].max():.2f} characters\")"
   ]
  },
  {
   "cell_type": "code",
   "execution_count": 75,
   "metadata": {},
   "outputs": [
    {
     "name": "stderr",
     "output_type": "stream",
     "text": [
      "/Users/giannisalexandrou/tmp/ipykernel_39391/4065886904.py:2: SettingWithCopyWarning: \n",
      "A value is trying to be set on a copy of a slice from a DataFrame.\n",
      "Try using .loc[row_indexer,col_indexer] = value instead\n",
      "\n",
      "See the caveats in the documentation: https://pandas.pydata.org/pandas-docs/stable/user_guide/indexing.html#returning-a-view-versus-a-copy\n",
      "  articles_df_cleaned['summary_length'] = articles_df_cleaned['summary'].str.len()\n"
     ]
    },
    {
     "data": {
      "image/png": "[encoded data removed]",
      "text/plain": [
       "<Figure size 1000x600 with 1 Axes>"
      ]
     },
     "metadata": {},
     "output_type": "display_data"
    },
    {
     "name": "stdout",
     "output_type": "stream",
     "text": [
      "Average article length: 647.21 characters\n",
      "Median article length: 628.00 characters\n",
      "Min article length: 140.00 characters\n",
      "Max article length: 2194.00 characters\n"
     ]
    }
   ],
   "source": [
    "# Analyze text length distribution\n",
    "articles_df_cleaned['summary_length'] = articles_df_cleaned['summary'].str.len()\n",
    "\n",
    "plt.figure(figsize=(10, 6))\n",
    "sns.histplot(articles_df_cleaned['summary_length'], bins=30)\n",
    "plt.title('Distribution of Article Text Lengths')\n",
    "plt.xlabel('Text Length (characters)')\n",
    "plt.ylabel('Count')\n",
    "plt.show()\n",
    "\n",
    "print(f\"Average article length: {articles_df_cleaned['summary_length'].mean():.2f} characters\")\n",
    "print(f\"Median article length: {articles_df_cleaned['summary_length'].median():.2f} characters\")\n",
    "print(f\"Min article length: {articles_df_cleaned['summary_length'].min():.2f} characters\")\n",
    "print(f\"Max article length: {articles_df_cleaned['summary_length'].max():.2f} characters\")"
   ]
  },
  {
   "cell_type": "markdown",
   "metadata": {},
   "source": [
    "## 3. Initialize the Embedding Model\n",
    "\n",
    "Now, let's initialize the embedding model. We'll use the all-MiniLM-L6-v2 model from sentence-transformers, which provides a good balance between quality and efficiency for text embeddings."
   ]
  },
  {
   "cell_type": "code",
   "execution_count": 78,
   "metadata": {},
   "outputs": [
    {
     "name": "stdout",
     "output_type": "stream",
     "text": [
      "Initialized embedding model: all-MiniLM-L6-v2\n"
     ]
    }
   ],
   "source": [
    "# Initialize the embedding model\n",
    "embedding_function = vdb.init_embedding_model()\n",
    "print(f\"Initialized embedding model: {vdb.DEFAULT_MODEL}\")"
   ]
  },
  {
   "cell_type": "markdown",
   "metadata": {},
   "source": [
    "Let's test the embedding model on a sample text to see what the embeddings look like:"
   ]
  },
  {
   "cell_type": "code",
   "execution_count": 80,
   "metadata": {},
   "outputs": [
    {
     "name": "stdout",
     "output_type": "stream",
     "text": [
      "Sample text:\n",
      "Telsey Advisory Group analyst Joseph Feldman reiterated the Outperform rating on Target Corporation TGT, lowering the price forecast from $145 to $130.\n",
      "\n",
      "Target will report its first-quarter earnings on Wednesday, May 21. Analyst Feldman lowered first-quarter and full-year 2025 estimates for Target, citing weaker consumer spending, particularly in discretionary and general merchandise, along with rising costs tied to promotions, labor, tech investments, and potential tariff impacts.\n",
      "\n",
      "While Placer\n",
      "\n",
      "Embedding shape: 384\n",
      "Embedding type: <class 'numpy.ndarray'>\n",
      "First 10 values of the embedding:\n",
      "[-0.02462963  0.03667282  0.0351544   0.04766127  0.06945785  0.02168005\n",
      "  0.0597578   0.10178655  0.00618485  0.01552141]\n"
     ]
    }
   ],
   "source": [
    "# Get a sample text from our dataset\n",
    "sample_text = articles_df_cleaned['text'].iloc[0][:500]  # Taking first 500 chars of first article\n",
    "print(f\"Sample text:\\n{sample_text}\\n\")\n",
    "\n",
    "# Generate embedding\n",
    "sample_embedding = embedding_function([sample_text])[0]\n",
    "\n",
    "# Display embedding information\n",
    "print(f\"Embedding shape: {len(sample_embedding)}\")\n",
    "print(f\"Embedding type: {type(sample_embedding)}\")\n",
    "print(f\"First 10 values of the embedding:\\n{sample_embedding[:10]}\")"
   ]
  },
  {
   "cell_type": "markdown",
   "metadata": {},
   "source": [
    "## 4. Initialize the Vector Database\n",
    "\n",
    "Next, we'll initialize ChromaDB to store our vector embeddings:"
   ]
  },
  {
   "cell_type": "code",
   "execution_count": 81,
   "metadata": {},
   "outputs": [
    {
     "name": "stdout",
     "output_type": "stream",
     "text": [
      "Error deleting collection: Collection [financial_articles] does not exists\n",
      "Initializing ChromaDB with persistence directory: ../data/chroma_db\n",
      "Loaded existing collection 'financial_articles'\n"
     ]
    }
   ],
   "source": [
    "# Initialize a new database with a specific collection name\n",
    "# collection_name = \"apple_financial_articles\"\n",
    "collection_name = \"financial_articles\"\n",
    "db_path = \"../data/chroma_db\"\n",
    "\n",
    "# Clean up any existing collection if needed\n",
    "# Uncomment the following line to delete an existing collection\n",
    "vdb.delete_collection(collection_name=collection_name, persist_directory=db_path)\n",
    "\n",
    "# Initialize the database and collection\n",
    "chroma_client, collection = vdb.init_vector_db(\n",
    "    persist_directory=db_path,\n",
    "    embedding_function=embedding_function,\n",
    "    collection_name=collection_name\n",
    ")"
   ]
  },
  {
   "cell_type": "markdown",
   "metadata": {},
   "source": [
    "## 5. Process Articles and Load into the Vector Database\n",
    "\n",
    "Now, we'll split the articles into chunks and load them into the vector database:"
   ]
  },
  {
   "cell_type": "code",
   "execution_count": 82,
   "metadata": {},
   "outputs": [
    {
     "name": "stdout",
     "output_type": "stream",
     "text": [
      "Created text splitter with chunk size 1500 and overlap 500\n"
     ]
    }
   ],
   "source": [
    "# Create a text splitter with custom chunk size and overlap\n",
    "text_splitter = vdb.create_text_splitter(chunk_size=1500, chunk_overlap=500)\n",
    "print(f\"Created text splitter with chunk size {1500} and overlap {500}\")"
   ]
  },
  {
   "cell_type": "code",
   "execution_count": 84,
   "metadata": {},
   "outputs": [
    {
     "data": {
      "text/plain": [
       "'../data/stock_portfolios/articles.csv'"
      ]
     },
     "execution_count": 84,
     "metadata": {},
     "output_type": "execute_result"
    }
   ],
   "source": [
    "articles_path"
   ]
  },
  {
   "cell_type": "code",
   "execution_count": 83,
   "metadata": {},
   "outputs": [
    {
     "name": "stdout",
     "output_type": "stream",
     "text": [
      "Persisted batch to disk at /Users/giannisalexandrou/Documents/Personal Projects/Trading-Agent/trading-agent/data/chroma_db\n",
      "Processed batch 1, articles: 8, chunks: 28\n",
      "Persisted batch to disk at /Users/giannisalexandrou/Documents/Personal Projects/Trading-Agent/trading-agent/data/chroma_db\n",
      "Processed batch 2, articles: 18, chunks: 80\n",
      "Persisted batch to disk at /Users/giannisalexandrou/Documents/Personal Projects/Trading-Agent/trading-agent/data/chroma_db\n",
      "Processed batch 3, articles: 28, chunks: 149\n",
      "Persisted batch to disk at /Users/giannisalexandrou/Documents/Personal Projects/Trading-Agent/trading-agent/data/chroma_db\n",
      "Processed batch 4, articles: 38, chunks: 216\n",
      "Persisted batch to disk at /Users/giannisalexandrou/Documents/Personal Projects/Trading-Agent/trading-agent/data/chroma_db\n",
      "Processed batch 5, articles: 47, chunks: 269\n",
      "Persisted batch to disk at /Users/giannisalexandrou/Documents/Personal Projects/Trading-Agent/trading-agent/data/chroma_db\n",
      "Processed batch 6, articles: 53, chunks: 287\n",
      "Persisted batch to disk at /Users/giannisalexandrou/Documents/Personal Projects/Trading-Agent/trading-agent/data/chroma_db\n",
      "Processed batch 7, articles: 63, chunks: 346\n",
      "Persisted batch to disk at /Users/giannisalexandrou/Documents/Personal Projects/Trading-Agent/trading-agent/data/chroma_db\n",
      "Processed batch 8, articles: 73, chunks: 406\n",
      "Persisted batch to disk at /Users/giannisalexandrou/Documents/Personal Projects/Trading-Agent/trading-agent/data/chroma_db\n",
      "Processed batch 9, articles: 83, chunks: 465\n",
      "Persisted batch to disk at /Users/giannisalexandrou/Documents/Personal Projects/Trading-Agent/trading-agent/data/chroma_db\n",
      "Processed batch 10, articles: 93, chunks: 503\n",
      "Persisted batch to disk at /Users/giannisalexandrou/Documents/Personal Projects/Trading-Agent/trading-agent/data/chroma_db\n",
      "Processed batch 11, articles: 99, chunks: 519\n",
      "Persisted batch to disk at /Users/giannisalexandrou/Documents/Personal Projects/Trading-Agent/trading-agent/data/chroma_db\n",
      "Processed batch 12, articles: 107, chunks: 562\n",
      "Persisted batch to disk at /Users/giannisalexandrou/Documents/Personal Projects/Trading-Agent/trading-agent/data/chroma_db\n",
      "Processed batch 13, articles: 114, chunks: 593\n",
      "Persisted batch to disk at /Users/giannisalexandrou/Documents/Personal Projects/Trading-Agent/trading-agent/data/chroma_db\n",
      "Processed batch 14, articles: 121, chunks: 624\n",
      "Persisted batch to disk at /Users/giannisalexandrou/Documents/Personal Projects/Trading-Agent/trading-agent/data/chroma_db\n",
      "Processed batch 15, articles: 128, chunks: 650\n",
      "Persisted batch to disk at /Users/giannisalexandrou/Documents/Personal Projects/Trading-Agent/trading-agent/data/chroma_db\n",
      "Processed batch 16, articles: 138, chunks: 710\n",
      "Persisted batch to disk at /Users/giannisalexandrou/Documents/Personal Projects/Trading-Agent/trading-agent/data/chroma_db\n",
      "Processed batch 17, articles: 148, chunks: 755\n",
      "Persisted batch to disk at /Users/giannisalexandrou/Documents/Personal Projects/Trading-Agent/trading-agent/data/chroma_db\n",
      "Processed batch 18, articles: 156, chunks: 797\n",
      "Persisted batch to disk at /Users/giannisalexandrou/Documents/Personal Projects/Trading-Agent/trading-agent/data/chroma_db\n",
      "Processed batch 19, articles: 165, chunks: 840\n",
      "Persisted batch to disk at /Users/giannisalexandrou/Documents/Personal Projects/Trading-Agent/trading-agent/data/chroma_db\n",
      "Processed batch 20, articles: 175, chunks: 899\n",
      "Persisted batch to disk at /Users/giannisalexandrou/Documents/Personal Projects/Trading-Agent/trading-agent/data/chroma_db\n",
      "Processed batch 21, articles: 182, chunks: 926\n",
      "Persisted batch to disk at /Users/giannisalexandrou/Documents/Personal Projects/Trading-Agent/trading-agent/data/chroma_db\n",
      "Processed batch 22, articles: 188, chunks: 949\n",
      "Persisted batch to disk at /Users/giannisalexandrou/Documents/Personal Projects/Trading-Agent/trading-agent/data/chroma_db\n",
      "Processed batch 23, articles: 194, chunks: 1005\n",
      "Persisted batch to disk at /Users/giannisalexandrou/Documents/Personal Projects/Trading-Agent/trading-agent/data/chroma_db\n",
      "Processed batch 24, articles: 201, chunks: 1033\n",
      "Persisted batch to disk at /Users/giannisalexandrou/Documents/Personal Projects/Trading-Agent/trading-agent/data/chroma_db\n",
      "Processed batch 25, articles: 202, chunks: 1034\n",
      "Finished processing 202 articles with 1034 chunks total\n",
      "\n",
      "Total articles processed: 202\n"
     ]
    }
   ],
   "source": [
    "# Load the articles into the vector database\n",
    "# Let's load just a few articles for demonstration\n",
    "# When loading articles, pass both client and collection\n",
    "num_articles_processed = vdb.load_articles_to_vectordb(\n",
    "    csv_path=articles_path,\n",
    "    collection=collection,\n",
    "    chroma_client=chroma_client,  # This is important for persistence\n",
    "    text_splitter=text_splitter,\n",
    "    batch_size=10\n",
    ")\n",
    "\n",
    "print(f\"\\nTotal articles processed: {num_articles_processed}\")"
   ]
  },
  {
   "cell_type": "markdown",
   "metadata": {},
   "source": [
    "## 6. Query the Vector Database\n",
    "\n",
    "Now that we have loaded our articles into the vector database, let's perform some semantic searches:"
   ]
  },
  {
   "cell_type": "code",
   "execution_count": 90,
   "metadata": {},
   "outputs": [],
   "source": [
    "# Define a function to display search results nicely\n",
    "def display_search_results(results, limit=3):\n",
    "    if not results or 'documents' not in results or not results['documents']:\n",
    "        print(\"No results found.\")\n",
    "        return\n",
    "    \n",
    "    documents = results['documents'][0]\n",
    "    metadatas = results['metadatas'][0]\n",
    "    distances = results['distances'][0]\n",
    "    \n",
    "    print(f\"Found {len(documents)} results. Showing top {min(limit, len(documents))}:\\n\")\n",
    "    \n",
    "    for i in range(min(limit, len(documents))):\n",
    "        print(f\"Result #{i+1} (Similarity: {1 - distances[i]:.4f})\")\n",
    "        print(f\"Title: {metadatas[i].get('title', 'N/A')}\")\n",
    "        print(f\"Source: {metadatas[i].get('source', 'N/A')}\")\n",
    "        print(f\"Date: {metadatas[i].get('pubDate', 'N/A')}\")\n",
    "        print(f\"Chunk: {metadatas[i].get('chunk_index', 0) + 1} of {metadatas[i].get('total_chunks', 'N/A')}\")\n",
    "        print(f\"Link: {metadatas[i].get('link', 'N/A')}\")\n",
    "        print(f\"Creator: {metadatas[i].get('creator', 'N/A')}\")\n",
    "        print(f\"Summary: {metadatas[i].get('summary', 'N/A')}\")\n",
    "        print(f\"Article ID: {metadatas[i].get('article_id', 'N/A')}\")\n",
    "        print(f\"\\nEXCERPT:\\n{documents[i][:800]}...\\n\")\n",
    "        print(\"-\" * 80)"
   ]
  },
  {
   "cell_type": "code",
   "execution_count": 86,
   "metadata": {},
   "outputs": [
    {
     "name": "stdout",
     "output_type": "stream",
     "text": [
      "Found 5 results. Showing top 3:\n",
      "\n",
      "Result #1 (Similarity: 0.4976)\n",
      "Title: 3,316 Shares in Apple Inc. (NASDAQ:AAPL) Acquired by Opulen Financial Group LLC\n",
      "Source: Defenseworld Net\n",
      "Date: 2025-05-16 07:34:59\n",
      "Chunk: 5 of 8\n",
      "Link: https://www.defenseworld.net/2025/05/16/3316-shares-in-apple-inc-nasdaqaapl-acquired-by-opulen-financial-group-llc.html\n",
      "Creator: Defense World Staff\n",
      "Summary: Apple accounts for approximately 0.8% of Opulen Financial Group LLC’s investment portfolio, making the stock its 29th biggest holding.\n",
      "FMR LLC boosted its holdings in shares of Apple by 5.3% in the third quarter.\n",
      "FMR LLC now owns 363,859,362 shares of the iPhone maker’s stock valued at $84,779,231,000 after purchasing an additional 18,224,005 shares during the period.\n",
      "Geode Capital Management LLC now owns 333,857,500 shares of the iPhone maker’s stock worth $77,542,863,000 after buying an additional 20,483,787 shares during the period.\n",
      "Over the last three months, insiders sold 191,507 shares of company stock valued at $42,694,080.\n",
      "Article ID: 00835d94d79a07d742dc6ae4245d92e5\n",
      "\n",
      "EXCERPT:\n",
      "Apple Price Performance\n",
      "\n",
      "Apple stock opened at $211.45 on Friday. The stock has a market cap of $3.16 trillion, a P/E ratio of 33.56, a price-to-earnings-growth ratio of 2.44 and a beta of 1.27. The company has a fifty day simple moving average of $206.28 and a 200-day simple moving average of $226....\n",
      "\n",
      "--------------------------------------------------------------------------------\n",
      "Result #2 (Similarity: 0.4705)\n",
      "Title: Strategic Family Wealth Counselors L.L.C. Has $7.48 Million Stake in Apple Inc. (NASDAQ:AAPL)\n",
      "Source: Defenseworld Net\n",
      "Date: 2025-05-16 07:34:52\n",
      "Chunk: 5 of 7\n",
      "Link: https://www.defenseworld.net/2025/05/16/strategic-family-wealth-counselors-l-l-c-has-7-48-million-stake-in-apple-inc-nasdaqaapl.html\n",
      "Creator: Defense World Staff\n",
      "Summary: Apple makes up about 2.4% of Strategic Family Wealth Counselors L.L.C.’s investment portfolio, making the stock its 14th largest holding.\n",
      "Strategic Family Wealth Counselors L.L.C.’s holdings in Apple were worth $7,476,000 at the end of the most recent reporting period.\n",
      "O Connor Financial Group LLC increased its holdings in shares of Apple by 1.2% in the fourth quarter.\n",
      "Over the last ninety days, insiders have sold 191,507 shares of company stock valued at $42,694,080.\n",
      "Apple Price PerformanceShares of Apple stock opened at $211.45 on Friday.\n",
      "Article ID: 87fb1d982432d183878ae37bdc2b27c4\n",
      "\n",
      "EXCERPT:\n",
      "Apple Price Performance\n",
      "\n",
      "Shares of Apple stock opened at $211.45 on Friday. The company has a quick ratio of 0.88, a current ratio of 0.92 and a debt-to-equity ratio of 1.26. The stock has a market capitalization of $3.16 trillion, a price-to-earnings ratio of 33.56, a price-to-earnings-growth ratio...\n",
      "\n",
      "--------------------------------------------------------------------------------\n",
      "Result #3 (Similarity: 0.4683)\n",
      "Title: Carmel Capital Partners LLC Increases Holdings in Apple Inc. (NASDAQ:AAPL)\n",
      "Source: Defenseworld Net\n",
      "Date: 2025-05-16 07:35:02\n",
      "Chunk: 5 of 6\n",
      "Link: https://www.defenseworld.net/2025/05/16/carmel-capital-partners-llc-increases-holdings-in-apple-inc-nasdaqaapl.html\n",
      "Creator: Defense World Staff\n",
      "Summary: Apple accounts for approximately 1.1% of Carmel Capital Partners LLC’s holdings, making the stock its 13th largest position.\n",
      "Carmel Capital Partners LLC’s holdings in Apple were worth $2,709,000 as of its most recent SEC filing.\n",
      "Cowa LLC lifted its holdings in shares of Apple by 2.6% during the third quarter.\n",
      "Lindbrook Capital LLC lifted its holdings in shares of Apple by 1.4% during the third quarter.\n",
      "Lindbrook Capital LLC now owns 264,322 shares of the iPhone maker’s stock worth $61,587,000 after purchasing an additional 3,604 shares during the period.\n",
      "Article ID: 6f589d2cedfa9af57bc90885f5406a3e\n",
      "\n",
      "EXCERPT:\n",
      "Apple Price Performance\n",
      "\n",
      "Apple stock opened at $211.45 on Friday. The stock’s 50 day moving average is $206.28 and its 200 day moving average is $226.84. The firm has a market cap of $3.16 trillion, a P/E ratio of 33.56, a P/E/G ratio of 2.44 and a beta of 1.27. The company has a debt-to-equity rati...\n",
      "\n",
      "--------------------------------------------------------------------------------\n"
     ]
    }
   ],
   "source": [
    "query0 = \"What were Apple's earnings per share and financial results reported on May 1st?\"\n",
    "results0 = vdb.query_vector_db(query0, collection=collection, n_results=5)\n",
    "display_search_results(results0)"
   ]
  },
  {
   "cell_type": "code",
   "execution_count": 92,
   "metadata": {},
   "outputs": [
    {
     "name": "stdout",
     "output_type": "stream",
     "text": [
      "Found 5 results. Showing top 3:\n",
      "\n",
      "Result #1 (Similarity: 0.5163)\n",
      "Title: 3,316 Shares in Apple Inc. (NASDAQ:AAPL) Acquired by Opulen Financial Group LLC\n",
      "Source: Defenseworld Net\n",
      "Date: 2025-05-16 07:34:59\n",
      "Chunk: 5 of 8\n",
      "Link: https://www.defenseworld.net/2025/05/16/3316-shares-in-apple-inc-nasdaqaapl-acquired-by-opulen-financial-group-llc.html\n",
      "Creator: Defense World Staff\n",
      "Summary: Apple accounts for approximately 0.8% of Opulen Financial Group LLC’s investment portfolio, making the stock its 29th biggest holding.\n",
      "FMR LLC boosted its holdings in shares of Apple by 5.3% in the third quarter.\n",
      "FMR LLC now owns 363,859,362 shares of the iPhone maker’s stock valued at $84,779,231,000 after purchasing an additional 18,224,005 shares during the period.\n",
      "Geode Capital Management LLC now owns 333,857,500 shares of the iPhone maker’s stock worth $77,542,863,000 after buying an additional 20,483,787 shares during the period.\n",
      "Over the last three months, insiders sold 191,507 shares of company stock valued at $42,694,080.\n",
      "Article ID: 00835d94d79a07d742dc6ae4245d92e5\n",
      "\n",
      "EXCERPT:\n",
      "Apple Price Performance\n",
      "\n",
      "Apple stock opened at $211.45 on Friday. The stock has a market cap of $3.16 trillion, a P/E ratio of 33.56, a price-to-earnings-growth ratio of 2.44 and a beta of 1.27. The company has a fifty day simple moving average of $206.28 and a 200-day simple moving average of $226.84. Apple Inc. has a 12-month low of $169.21 and a 12-month high of $260.10. The company has a current ratio of 0.92, a quick ratio of 0.88 and a debt-to-equity ratio of 1.26.\n",
      "\n",
      "Apple (NASDAQ:AAPL – Get Free Report) last announced its quarterly earnings results on Thursday, May 1st. The iPhone maker reported $1.65 earnings per share for the quarter, beating analysts’ consensus estimates of $1.62 by $0.03. Apple had a net margin of 24.30% and a return on equity of 160.83%. The firm had revenue of ...\n",
      "\n",
      "--------------------------------------------------------------------------------\n",
      "Result #2 (Similarity: 0.4963)\n",
      "Title: Carmel Capital Partners LLC Increases Holdings in Apple Inc. (NASDAQ:AAPL)\n",
      "Source: Defenseworld Net\n",
      "Date: 2025-05-16 07:35:02\n",
      "Chunk: 5 of 6\n",
      "Link: https://www.defenseworld.net/2025/05/16/carmel-capital-partners-llc-increases-holdings-in-apple-inc-nasdaqaapl.html\n",
      "Creator: Defense World Staff\n",
      "Summary: Apple accounts for approximately 1.1% of Carmel Capital Partners LLC’s holdings, making the stock its 13th largest position.\n",
      "Carmel Capital Partners LLC’s holdings in Apple were worth $2,709,000 as of its most recent SEC filing.\n",
      "Cowa LLC lifted its holdings in shares of Apple by 2.6% during the third quarter.\n",
      "Lindbrook Capital LLC lifted its holdings in shares of Apple by 1.4% during the third quarter.\n",
      "Lindbrook Capital LLC now owns 264,322 shares of the iPhone maker’s stock worth $61,587,000 after purchasing an additional 3,604 shares during the period.\n",
      "Article ID: 6f589d2cedfa9af57bc90885f5406a3e\n",
      "\n",
      "EXCERPT:\n",
      "Apple Price Performance\n",
      "\n",
      "Apple stock opened at $211.45 on Friday. The stock’s 50 day moving average is $206.28 and its 200 day moving average is $226.84. The firm has a market cap of $3.16 trillion, a P/E ratio of 33.56, a P/E/G ratio of 2.44 and a beta of 1.27. The company has a debt-to-equity ratio of 1.26, a current ratio of 0.92 and a quick ratio of 0.88. Apple Inc. has a one year low of $169.21 and a one year high of $260.10.\n",
      "\n",
      "Apple (NASDAQ:AAPL – Get Free Report) last announced its quarterly earnings results on Thursday, May 1st. The iPhone maker reported $1.65 EPS for the quarter, beating analysts’ consensus estimates of $1.62 by $0.03. Apple had a net margin of 24.30% and a return on equity of 160.83%. The business had revenue of $95.36 billion during the quarter, compared to analy...\n",
      "\n",
      "--------------------------------------------------------------------------------\n",
      "Result #3 (Similarity: 0.4944)\n",
      "Title: Blue Barn Wealth LLC Purchases 848 Shares of Apple Inc. (NASDAQ:AAPL)\n",
      "Source: Defenseworld Net\n",
      "Date: 2025-05-16 07:35:03\n",
      "Chunk: 4 of 7\n",
      "Link: https://www.defenseworld.net/2025/05/16/blue-barn-wealth-llc-purchases-848-shares-of-apple-inc-nasdaqaapl.html\n",
      "Creator: Defense World Staff\n",
      "Summary: The firm owned 6,237 shares of the iPhone maker’s stock after purchasing an additional 848 shares during the period.\n",
      "5th Street Advisors LLC now owns 15,100 shares of the iPhone maker’s stock worth $3,518,000 after purchasing an additional 3,736 shares in the last quarter.\n",
      "Cowa LLC now owns 37,259 shares of the iPhone maker’s stock worth $8,681,000 after acquiring an additional 961 shares during the last quarter.\n",
      "Also, insider Chris Kondo sold 4,486 shares of Apple stock in a transaction that occurred on Monday, May 12th.\n",
      "Apple Company Profile(Free Report)Apple Inc designs, manufactures, and markets smartphones, personal computers, tablets, wearables, and accessories worldwide.\n",
      "Article ID: c90e28f9a481a806b6608ebabcdecbff\n",
      "\n",
      "EXCERPT:\n",
      "Apple Stock Performance\n",
      "\n",
      "AAPL opened at $211.45 on Friday. The company has a current ratio of 0.92, a quick ratio of 0.88 and a debt-to-equity ratio of 1.26. The firm has a 50 day moving average of $206.28 and a two-hundred day moving average of $226.84. Apple Inc. has a 12-month low of $169.21 and a 12-month high of $260.10. The firm has a market capitalization of $3.16 trillion, a PE ratio of 33.56, a P/E/G ratio of 2.44 and a beta of 1.27.\n",
      "\n",
      "Apple (NASDAQ:AAPL – Get Free Report) last released its quarterly earnings data on Thursday, May 1st. The iPhone maker reported $1.65 earnings per share for the quarter, beating analysts’ consensus estimates of $1.62 by $0.03. Apple had a net margin of 24.30% and a return on equity of 160.83%. The company had revenue of $95.36 billion during the quar...\n",
      "\n",
      "--------------------------------------------------------------------------------\n"
     ]
    }
   ],
   "source": [
    "# Simple search for Apple's financial performance\n",
    "query1 = \"Apple's financial performance and quarterly earnings\"\n",
    "results1 = vdb.query_vector_db(query1, collection=collection, n_results=5)\n",
    "display_search_results(results1)"
   ]
  },
  {
   "cell_type": "code",
   "execution_count": 93,
   "metadata": {},
   "outputs": [
    {
     "name": "stdout",
     "output_type": "stream",
     "text": [
      "Found 5 results. Showing top 3:\n",
      "\n",
      "Result #1 (Similarity: 0.4414)\n",
      "Title: Expert Outlook: Apple Through The Eyes Of 31 Analysts\n",
      "Source: Benzinga\n",
      "Date: 2025-05-16 18:00:22\n",
      "Chunk: 1 of 7\n",
      "Link: https://www.benzinga.com/insights/analyst-ratings/25/05/45474434/expert-outlook-apple-through-the-eyes-of-31-analysts\n",
      "Creator: Benzinga Insights\n",
      "Summary: 31 analysts have expressed a variety of opinions on Apple AAPL over the past quarter, offering a diverse set of opinions from bullish to bearish.\n",
      "Deciphering Analyst Ratings: An In-Depth AnalysisIn examining recent analyst actions, we gain insights into how financial experts perceive Apple.\n",
      "Responding to changing market dynamics and company performance, analysts update their recommendations.\n",
      "With an impressive ROE of 37.11%, the company demonstrates effective use of equity capital and strong financial performance.\n",
      "These specialists diligently analyze company financial statements, participate in conference calls, and engage with insiders to generate quarterly ratings for individual stocks.\n",
      "Article ID: eb77c3d9551042cf466a697bac188601\n",
      "\n",
      "EXCERPT:\n",
      "31 analysts have expressed a variety of opinions on Apple AAPL over the past quarter, offering a diverse set of opinions from bullish to bearish.\n",
      "\n",
      "The table below provides a snapshot of their recent ratings, showcasing how sentiments have evolved over the past 30 days and comparing them to the preceding months.\n",
      "\n",
      "Bullish Somewhat Bullish Indifferent Somewhat Bearish Bearish Total Ratings 13 10 5 3 0 Last 30D 0 1 0 0 0 1M Ago 4 3 3 2 0 2M Ago 8 3 2 1 0 3M Ago 1 3 0 0 0\n",
      "\n",
      "Analysts have recently evaluated Apple and provided 12-month price targets. The average target is $243.8, accompanied by a high estimate of $325.00 and a low estimate of $167.88. Highlighting a 4.41% decrease, the current average has fallen from the previous average price target of $255.05.\n",
      "\n",
      "Deciphering Analyst Ratings: An In...\n",
      "\n",
      "--------------------------------------------------------------------------------\n",
      "Result #2 (Similarity: 0.2485)\n",
      "Title: Expert Outlook: Apple Through The Eyes Of 31 Analysts\n",
      "Source: Benzinga\n",
      "Date: 2025-05-16 18:00:22\n",
      "Chunk: 5 of 7\n",
      "Link: https://www.benzinga.com/insights/analyst-ratings/25/05/45474434/expert-outlook-apple-through-the-eyes-of-31-analysts\n",
      "Creator: Benzinga Insights\n",
      "Summary: 31 analysts have expressed a variety of opinions on Apple AAPL over the past quarter, offering a diverse set of opinions from bullish to bearish.\n",
      "Deciphering Analyst Ratings: An In-Depth AnalysisIn examining recent analyst actions, we gain insights into how financial experts perceive Apple.\n",
      "Responding to changing market dynamics and company performance, analysts update their recommendations.\n",
      "With an impressive ROE of 37.11%, the company demonstrates effective use of equity capital and strong financial performance.\n",
      "These specialists diligently analyze company financial statements, participate in conference calls, and engage with insiders to generate quarterly ratings for individual stocks.\n",
      "Article ID: eb77c3d9551042cf466a697bac188601\n",
      "\n",
      "EXCERPT:\n",
      "For valuable insights into Apple's market performance, consider these analyst evaluations alongside crucial financial indicators. Stay well-informed and make prudent decisions using our Ratings Table.\n",
      "\n",
      "Stay up to date on Apple analyst ratings.\n",
      "\n",
      "All You Need to Know About Apple\n",
      "\n",
      "Apple is among the largest companies in the world, with a broad portfolio of hardware and software products targeted at consumers and businesses. Apple's iPhone makes up a majority of the firm sales, and Apple's other products like Mac, iPad, and Watch are designed around the iPhone as the focal point of an expansive software ecosystem. Apple has progressively worked to add new applications, like streaming video, subscription bundles, and augmented reality. The firm designs its own software and semiconductors while ...\n",
      "\n",
      "--------------------------------------------------------------------------------\n",
      "Result #3 (Similarity: 0.2139)\n",
      "Title: Expert Outlook: Apple Through The Eyes Of 31 Analysts\n",
      "Source: Benzinga\n",
      "Date: 2025-05-16 18:00:22\n",
      "Chunk: 4 of 7\n",
      "Link: https://www.benzinga.com/insights/analyst-ratings/25/05/45474434/expert-outlook-apple-through-the-eyes-of-31-analysts\n",
      "Creator: Benzinga Insights\n",
      "Summary: 31 analysts have expressed a variety of opinions on Apple AAPL over the past quarter, offering a diverse set of opinions from bullish to bearish.\n",
      "Deciphering Analyst Ratings: An In-Depth AnalysisIn examining recent analyst actions, we gain insights into how financial experts perceive Apple.\n",
      "Responding to changing market dynamics and company performance, analysts update their recommendations.\n",
      "With an impressive ROE of 37.11%, the company demonstrates effective use of equity capital and strong financial performance.\n",
      "These specialists diligently analyze company financial statements, participate in conference calls, and engage with insiders to generate quarterly ratings for individual stocks.\n",
      "Article ID: eb77c3d9551042cf466a697bac188601\n",
      "\n",
      "EXCERPT:\n",
      "Key Insights:\n",
      "\n",
      "Action Taken: Responding to changing market dynamics and company performance, analysts update their recommendations. Whether they 'Maintain', 'Raise', or 'Lower' their stance, it signifies their response to recent developments related to Apple. This offers insight into analysts' perspectives on the current state of the company.\n",
      "\n",
      "Responding to changing market dynamics and company performance, analysts update their recommendations. Whether they 'Maintain', 'Raise', or 'Lower' their stance, it signifies their response to recent developments related to Apple. This offers insight into analysts' perspectives on the current state of the company. Rating: Unveiling insights, analysts deliver qualitative insights into stock performance, from 'Outperform' to 'Underperform'. These ratin...\n",
      "\n",
      "--------------------------------------------------------------------------------\n"
     ]
    }
   ],
   "source": [
    "# Search with metadata filtering (articles from a specific source)\n",
    "query2 = \"Apple stock market sentiment\"\n",
    "results2 = vdb.query_vector_db(\n",
    "    query2, \n",
    "    collection=collection, \n",
    "    n_results=5,\n",
    "    where={\"source\": \"Benzinga\"}\n",
    ")\n",
    "display_search_results(results2)"
   ]
  },
  {
   "cell_type": "code",
   "execution_count": 94,
   "metadata": {},
   "outputs": [
    {
     "name": "stdout",
     "output_type": "stream",
     "text": [
      "Found 5 results. Showing top 3:\n",
      "\n",
      "Result #1 (Similarity: 0.3322)\n",
      "Title: Expert Outlook: Apple Through The Eyes Of 31 Analysts\n",
      "Source: Benzinga\n",
      "Date: 2025-05-16 18:00:22\n",
      "Chunk: 5 of 7\n",
      "Link: https://www.benzinga.com/insights/analyst-ratings/25/05/45474434/expert-outlook-apple-through-the-eyes-of-31-analysts\n",
      "Creator: Benzinga Insights\n",
      "Summary: 31 analysts have expressed a variety of opinions on Apple AAPL over the past quarter, offering a diverse set of opinions from bullish to bearish.\n",
      "Deciphering Analyst Ratings: An In-Depth AnalysisIn examining recent analyst actions, we gain insights into how financial experts perceive Apple.\n",
      "Responding to changing market dynamics and company performance, analysts update their recommendations.\n",
      "With an impressive ROE of 37.11%, the company demonstrates effective use of equity capital and strong financial performance.\n",
      "These specialists diligently analyze company financial statements, participate in conference calls, and engage with insiders to generate quarterly ratings for individual stocks.\n",
      "Article ID: eb77c3d9551042cf466a697bac188601\n",
      "\n",
      "EXCERPT:\n",
      "For valuable insights into Apple's market performance, consider these analyst evaluations alongside crucial financial indicators. Stay well-informed and make prudent decisions using our Ratings Table.\n",
      "\n",
      "Stay up to date on Apple analyst ratings.\n",
      "\n",
      "All You Need to Know About Apple\n",
      "\n",
      "Apple is among the largest companies in the world, with a broad portfolio of hardware and software products targeted at consumers and businesses. Apple's iPhone makes up a majority of the firm sales, and Apple's other products like Mac, iPad, and Watch are designed around the iPhone as the focal point of an expansive software ecosystem. Apple has progressively worked to add new applications, like streaming video, subscription bundles, and augmented reality. The firm designs its own software and semiconductors while ...\n",
      "\n",
      "--------------------------------------------------------------------------------\n",
      "Result #2 (Similarity: 0.3240)\n",
      "Title: Inquiry Into Apple's Competitor Dynamics In Technology Hardware, Storage & Peripherals Industry\n",
      "Source: Benzinga\n",
      "Date: 2025-05-16 15:00:43\n",
      "Chunk: 1 of 4\n",
      "Link: https://www.benzinga.com/insights/news/25/05/45470918/inquiry-into-apples-competitor-dynamics-in-technology-hardware-storage-amp-peripherals-industry\n",
      "Creator: Benzinga Insights\n",
      "Summary: In this article, we will perform an extensive industry comparison, evaluating Apple AAPL in relation to its major competitors in the Technology Hardware, Storage & Peripherals industry.\n",
      "The Return on Equity (ROE) of 37.11% is 31.03% above the industry average, highlighting efficient use of equity to generate profits.\n",
      "The company's revenue growth of 5.08% is significantly below the industry average of 13.41%.\n",
      "In terms of the Debt-to-Equity ratio, Apple can be assessed by comparing it to its top 4 peers, resulting in the following observations:In the context of the debt-to-equity ratio, Apple holds a middle position among its top 4 peers.\n",
      "However, the high ROE, EBITDA, gross profit, and low revenue growth suggest that Apple is efficiently utilizing its resources and generating strong profits, despite slower revenue growth.\n",
      "Article ID: a220386ebf4d6184400560f4f66c7bd9\n",
      "\n",
      "EXCERPT:\n",
      "In the dynamic and fiercely competitive business environment, conducting a thorough analysis of companies is crucial for investors and industry enthusiasts. In this article, we will perform an extensive industry comparison, evaluating Apple AAPL in relation to its major competitors in the Technology Hardware, Storage & Peripherals industry. By closely examining crucial financial metrics, market position, and growth prospects, we aim to offer valuable insights for investors and shed light on company's performance within the industry.\n",
      "\n",
      "Apple Background\n",
      "\n",
      "Apple is among the largest companies in the world, with a broad portfolio of hardware and software products targeted at consumers and businesses. Apple's iPhone makes up a majority of the firm sales, and Apple's other products like Mac, iPad,...\n",
      "\n",
      "--------------------------------------------------------------------------------\n",
      "Result #3 (Similarity: 0.2118)\n",
      "Title: 'No Change' In Apple's Production Plans, Says India, Despite Trump's 'Little Problem' With CEO Tim Cook: Report\n",
      "Source: Benzinga\n",
      "Date: 2025-05-16 07:57:00\n",
      "Chunk: 3 of 3\n",
      "Link: https://www.benzinga.com/markets/25/05/45462006/no-change-in-apples-production-plans-says-india-despite-trumps-little-problem-with-ceo-tim-cook-report\n",
      "Creator: Namrata Sen\n",
      "Summary: Despite the recent criticism from U.S. President Donald Trump, India remains committed to its growing partnership with Apple Inc. AAPL.\n",
      "This assurance comes despite Trump’s recent remarks, with government sources emphasizing that there is “no change” in Apple’s investment plans in India, as per a CNBC-TV18 report.\n",
      "Rajoo Goel, Secretary General of the Electronic Industries Association of India (ELCINA), responded to Trump’s criticism by underplaying its potential impact.\n",
      "This followed a conversation between Trump and Cook, where Trump stated that Cook intends to boost Apple's investment in U.S. operations.\n",
      "He stated that Trump is making it tough for Apple in India, potentially hurting the tech giant’s operations.\n",
      "Article ID: 9cef745ca36828e6c084f135ebbcf15d\n",
      "\n",
      "EXCERPT:\n",
      "However, CNBC's Jim Cramer warned that Apple could face challenges in India due to Trump's trade policies. He stated that Trump is making it tough for Apple in India, potentially hurting the tech giant’s operations. Meanwhile, reports suggest that Apple is considering raising prices for its upcoming iPhones but would avoid revealing that the potential hike is related to U.S. tariffs on Chinese-made parts, where most of its assembly takes place.\n",
      "\n",
      "Despite these criticisms, India’s electronics industry remains optimistic about its partnership with Apple, suggesting that Trump’s comments are unlikely to have a significant impact on their ongoing operations. That being said, Apple’s high-end models like the Pro and Pro Max will continue to be made mainly in China, as India’s infrastructure and ...\n",
      "\n",
      "--------------------------------------------------------------------------------\n"
     ]
    }
   ],
   "source": [
    "# Search for market trends related to Apple\n",
    "query3 = \"Apple's position relative to competitors in the tech market\"\n",
    "results3 = vdb.query_vector_db(query3, collection=collection, n_results=5)\n",
    "display_search_results(results3)"
   ]
  },
  {
   "cell_type": "markdown",
   "metadata": {},
   "source": [
    "## 7. Retrieve Complete Articles\n",
    "\n",
    "Now, let's demonstrate how to retrieve a complete article by its ID:"
   ]
  },
  {
   "cell_type": "code",
   "execution_count": 95,
   "metadata": {},
   "outputs": [
    {
     "name": "stdout",
     "output_type": "stream",
     "text": [
      "Retrieving article with ID: 00835d94d79a07d742dc6ae4245d92e5\n",
      "\n",
      "Article Title: 3,316 Shares in Apple Inc. (NASDAQ:AAPL) Acquired by Opulen Financial Group LLC\n",
      "Publication Date: 2025-05-16 07:34:59\n",
      "Source: Defenseworld Net\n",
      "\n",
      "ARTICLE TEXT (first 500 characters):\n",
      "Opulen Financial Group LLC purchased a new position in Apple Inc. (NASDAQ:AAPL – Free Report) in the 4th quarter, according to its most recent 13F filing with the Securities and Exchange Commission. The institutional investor purchased 3,316 shares of the iPhone maker’s stock, valued at approximately $830,000. Apple accounts for approximately 0.8% of Opulen Financial Group LLC’s investment portfolio, making the stock its 29th biggest holding.\n",
      "\n",
      "Get Apple alerts: A number of other institutional in...\n"
     ]
    }
   ],
   "source": [
    "# Get a sample article ID from our results\n",
    "sample_article_id = results1['metadatas'][0][0]['article_id']\n",
    "print(f\"Retrieving article with ID: {sample_article_id}\\n\")\n",
    "\n",
    "# Retrieve the full article\n",
    "article_data = vdb.get_article_by_id(sample_article_id, collection=collection)\n",
    "\n",
    "# Display article information\n",
    "print(f\"Article Title: {article_data.get('title', 'N/A')}\")\n",
    "print(f\"Publication Date: {article_data.get('pubDate', 'N/A')}\")\n",
    "print(f\"Source: {article_data.get('source', 'N/A')}\")\n",
    "print(f\"\\nARTICLE TEXT (first 500 characters):\\n{article_data.get('text', '')[:500]}...\")"
   ]
  },
  {
   "cell_type": "markdown",
   "metadata": {},
   "source": [
    "## 8. Advanced Query Techniques\n",
    "\n",
    "Let's explore some more advanced query techniques with our vector database:"
   ]
  },
  {
   "cell_type": "code",
   "execution_count": 96,
   "metadata": {},
   "outputs": [
    {
     "name": "stdout",
     "output_type": "stream",
     "text": [
      "Found 3 results. Showing top 3:\n",
      "\n",
      "Result #1 (Similarity: 0.4948)\n",
      "Title: 3,316 Shares in Apple Inc. (NASDAQ:AAPL) Acquired by Opulen Financial Group LLC\n",
      "Source: Defenseworld Net\n",
      "Date: 2025-05-16 07:34:59\n",
      "Chunk: 5 of 8\n",
      "Link: https://www.defenseworld.net/2025/05/16/3316-shares-in-apple-inc-nasdaqaapl-acquired-by-opulen-financial-group-llc.html\n",
      "Creator: Defense World Staff\n",
      "Summary: Apple accounts for approximately 0.8% of Opulen Financial Group LLC’s investment portfolio, making the stock its 29th biggest holding.\n",
      "FMR LLC boosted its holdings in shares of Apple by 5.3% in the third quarter.\n",
      "FMR LLC now owns 363,859,362 shares of the iPhone maker’s stock valued at $84,779,231,000 after purchasing an additional 18,224,005 shares during the period.\n",
      "Geode Capital Management LLC now owns 333,857,500 shares of the iPhone maker’s stock worth $77,542,863,000 after buying an additional 20,483,787 shares during the period.\n",
      "Over the last three months, insiders sold 191,507 shares of company stock valued at $42,694,080.\n",
      "Article ID: 00835d94d79a07d742dc6ae4245d92e5\n",
      "\n",
      "EXCERPT:\n",
      "Apple Price Performance\n",
      "\n",
      "Apple stock opened at $211.45 on Friday. The stock has a market cap of $3.16 trillion, a P/E ratio of 33.56, a price-to-earnings-growth ratio of 2.44 and a beta of 1.27. The company has a fifty day simple moving average of $206.28 and a 200-day simple moving average of $226.84. Apple Inc. has a 12-month low of $169.21 and a 12-month high of $260.10. The company has a current ratio of 0.92, a quick ratio of 0.88 and a debt-to-equity ratio of 1.26.\n",
      "\n",
      "Apple (NASDAQ:AAPL – Get Free Report) last announced its quarterly earnings results on Thursday, May 1st. The iPhone maker reported $1.65 earnings per share for the quarter, beating analysts’ consensus estimates of $1.62 by $0.03. Apple had a net margin of 24.30% and a return on equity of 160.83%. The firm had revenue of ...\n",
      "\n",
      "--------------------------------------------------------------------------------\n",
      "Result #2 (Similarity: 0.4776)\n",
      "Title: Carmel Capital Partners LLC Increases Holdings in Apple Inc. (NASDAQ:AAPL)\n",
      "Source: Defenseworld Net\n",
      "Date: 2025-05-16 07:35:02\n",
      "Chunk: 5 of 6\n",
      "Link: https://www.defenseworld.net/2025/05/16/carmel-capital-partners-llc-increases-holdings-in-apple-inc-nasdaqaapl.html\n",
      "Creator: Defense World Staff\n",
      "Summary: Apple accounts for approximately 1.1% of Carmel Capital Partners LLC’s holdings, making the stock its 13th largest position.\n",
      "Carmel Capital Partners LLC’s holdings in Apple were worth $2,709,000 as of its most recent SEC filing.\n",
      "Cowa LLC lifted its holdings in shares of Apple by 2.6% during the third quarter.\n",
      "Lindbrook Capital LLC lifted its holdings in shares of Apple by 1.4% during the third quarter.\n",
      "Lindbrook Capital LLC now owns 264,322 shares of the iPhone maker’s stock worth $61,587,000 after purchasing an additional 3,604 shares during the period.\n",
      "Article ID: 6f589d2cedfa9af57bc90885f5406a3e\n",
      "\n",
      "EXCERPT:\n",
      "Apple Price Performance\n",
      "\n",
      "Apple stock opened at $211.45 on Friday. The stock’s 50 day moving average is $206.28 and its 200 day moving average is $226.84. The firm has a market cap of $3.16 trillion, a P/E ratio of 33.56, a P/E/G ratio of 2.44 and a beta of 1.27. The company has a debt-to-equity ratio of 1.26, a current ratio of 0.92 and a quick ratio of 0.88. Apple Inc. has a one year low of $169.21 and a one year high of $260.10.\n",
      "\n",
      "Apple (NASDAQ:AAPL – Get Free Report) last announced its quarterly earnings results on Thursday, May 1st. The iPhone maker reported $1.65 EPS for the quarter, beating analysts’ consensus estimates of $1.62 by $0.03. Apple had a net margin of 24.30% and a return on equity of 160.83%. The business had revenue of $95.36 billion during the quarter, compared to analy...\n",
      "\n",
      "--------------------------------------------------------------------------------\n",
      "Result #3 (Similarity: 0.4636)\n",
      "Title: Apple Inc. (NASDAQ:AAPL) Stock Holdings Reduced by Lindbrook Capital LLC\n",
      "Source: Defenseworld Net\n",
      "Date: 2025-05-16 07:35:01\n",
      "Chunk: 4 of 7\n",
      "Link: https://www.defenseworld.net/2025/05/16/apple-inc-nasdaqaapl-stock-holdings-reduced-by-lindbrook-capital-llc.html\n",
      "Creator: Defense World Staff\n",
      "Summary: Apple comprises about 5.6% of Lindbrook Capital LLC’s holdings, making the stock its 3rd largest position.\n",
      "Lindbrook Capital LLC’s holdings in Apple were worth $62,180,000 at the end of the most recent reporting period.\n",
      "Cowa LLC now owns 37,259 shares of the iPhone maker’s stock valued at $8,681,000 after buying an additional 961 shares during the last quarter.\n",
      "Resolute Advisors LLC now owns 1,951 shares of the iPhone maker’s stock worth $455,000 after acquiring an additional 396 shares during the period.\n",
      "Apple Stock Down 0.4%Shares of Apple stock opened at $211.45 on Friday.\n",
      "Article ID: 3d7f51e4ddbbd16115bb929b17d047d5\n",
      "\n",
      "EXCERPT:\n",
      "Apple Stock Down 0.4%\n",
      "\n",
      "Shares of Apple stock opened at $211.45 on Friday. The company has a 50-day moving average of $206.28 and a 200 day moving average of $226.84. Apple Inc. has a 1 year low of $169.21 and a 1 year high of $260.10. The firm has a market cap of $3.16 trillion, a price-to-earnings ratio of 33.56, a PEG ratio of 2.44 and a beta of 1.27. The company has a debt-to-equity ratio of 1.26, a current ratio of 0.92 and a quick ratio of 0.88.\n",
      "\n",
      "Apple (NASDAQ:AAPL – Get Free Report) last released its quarterly earnings results on Thursday, May 1st. The iPhone maker reported $1.65 earnings per share for the quarter, beating the consensus estimate of $1.62 by $0.03. The firm had revenue of $95.36 billion for the quarter, compared to analysts’ expectations of $94.04 billion. Apple had a...\n",
      "\n",
      "--------------------------------------------------------------------------------\n"
     ]
    }
   ],
   "source": [
    "# Create a composite query by combining multiple concepts\n",
    "composite_query = \"Apple's earnings impact on stock price and market response\"\n",
    "composite_results = vdb.query_vector_db(composite_query, collection=collection, n_results=3)\n",
    "display_search_results(composite_results)"
   ]
  },
  {
   "cell_type": "code",
   "execution_count": 97,
   "metadata": {},
   "outputs": [
    {
     "name": "stdout",
     "output_type": "stream",
     "text": [
      "\n",
      "QUERY: Apple's financial outlook\n",
      "--------------------------------------------------\n",
      "Found 1 results. Showing top 1:\n",
      "\n",
      "Result #1 (Similarity: 0.2427)\n",
      "Title: Apple Inc. (NASDAQ:AAPL) Shares Acquired by Hartford Funds Management Co LLC\n",
      "Source: Defenseworld Net\n",
      "Date: 2025-05-16 07:34:58\n",
      "Chunk: 3 of 6\n",
      "Link: https://www.defenseworld.net/2025/05/16/apple-inc-nasdaqaapl-shares-acquired-by-hartford-funds-management-co-llc.html\n",
      "Creator: Defense World Staff\n",
      "Summary: Hartford Funds Management Co LLC’s holdings in Apple were worth $6,165,000 at the end of the most recent reporting period.\n",
      "Drystone LLC acquired a new stake in Apple in the 4th quarter worth approximately $25,000.\n",
      "SPX Gestao de Recursos Ltda acquired a new stake in Apple in the 3rd quarter worth approximately $71,000.\n",
      "Teachers Insurance & Annuity Association of America acquired a new stake in Apple in the 3rd quarter worth approximately $77,000.\n",
      "Compass Planning Associates Inc acquired a new stake in Apple in the 4th quarter worth approximately $96,000.\n",
      "Article ID: 316be789831d75e65d34b916a75b5df3\n",
      "\n",
      "EXCERPT:\n",
      "Apple Price Performance\n",
      "\n",
      "Apple stock opened at $211.45 on Friday. The company has a debt-to-equity ratio of 1.26, a quick ratio of 0.88 and a current ratio of 0.92. The firm has a market cap of $3.16 trillion, a P/E ratio of 33.56, a P/E/G ratio of 2.44 and a beta of 1.27. The business’s fifty day moving average is $206.28 and its two-hundred day moving average is $226.84. Apple Inc. has a 52 week low of $169.21 and a 52 week high of $260.10.\n",
      "\n",
      "Apple (NASDAQ:AAPL – Get Free Report) last posted its quarterly earnings data on Thursday, May 1st. The iPhone maker reported $1.65 EPS for the quarter, topping analysts’ consensus estimates of $1.62 by $0.03. The company had revenue of $95.36 billion for the quarter, compared to analyst estimates of $94.04 billion. Apple had a return on equity of 16...\n",
      "\n",
      "--------------------------------------------------------------------------------\n",
      "\n",
      "QUERY: Apple's product strategy\n",
      "--------------------------------------------------\n",
      "Found 1 results. Showing top 1:\n",
      "\n",
      "Result #1 (Similarity: 0.4450)\n",
      "Title: Inquiry Into Apple's Competitor Dynamics In Technology Hardware, Storage & Peripherals Industry\n",
      "Source: Benzinga\n",
      "Date: 2025-05-16 15:00:43\n",
      "Chunk: 1 of 4\n",
      "Link: https://www.benzinga.com/insights/news/25/05/45470918/inquiry-into-apples-competitor-dynamics-in-technology-hardware-storage-amp-peripherals-industry\n",
      "Creator: Benzinga Insights\n",
      "Summary: In this article, we will perform an extensive industry comparison, evaluating Apple AAPL in relation to its major competitors in the Technology Hardware, Storage & Peripherals industry.\n",
      "The Return on Equity (ROE) of 37.11% is 31.03% above the industry average, highlighting efficient use of equity to generate profits.\n",
      "The company's revenue growth of 5.08% is significantly below the industry average of 13.41%.\n",
      "In terms of the Debt-to-Equity ratio, Apple can be assessed by comparing it to its top 4 peers, resulting in the following observations:In the context of the debt-to-equity ratio, Apple holds a middle position among its top 4 peers.\n",
      "However, the high ROE, EBITDA, gross profit, and low revenue growth suggest that Apple is efficiently utilizing its resources and generating strong profits, despite slower revenue growth.\n",
      "Article ID: a220386ebf4d6184400560f4f66c7bd9\n",
      "\n",
      "EXCERPT:\n",
      "In the dynamic and fiercely competitive business environment, conducting a thorough analysis of companies is crucial for investors and industry enthusiasts. In this article, we will perform an extensive industry comparison, evaluating Apple AAPL in relation to its major competitors in the Technology Hardware, Storage & Peripherals industry. By closely examining crucial financial metrics, market position, and growth prospects, we aim to offer valuable insights for investors and shed light on company's performance within the industry.\n",
      "\n",
      "Apple Background\n",
      "\n",
      "Apple is among the largest companies in the world, with a broad portfolio of hardware and software products targeted at consumers and businesses. Apple's iPhone makes up a majority of the firm sales, and Apple's other products like Mac, iPad,...\n",
      "\n",
      "--------------------------------------------------------------------------------\n",
      "\n",
      "QUERY: Apple's stock performance\n",
      "--------------------------------------------------\n",
      "Found 1 results. Showing top 1:\n",
      "\n",
      "Result #1 (Similarity: 0.5952)\n",
      "Title: Strategic Family Wealth Counselors L.L.C. Has $7.48 Million Stake in Apple Inc. (NASDAQ:AAPL)\n",
      "Source: Defenseworld Net\n",
      "Date: 2025-05-16 07:34:52\n",
      "Chunk: 5 of 7\n",
      "Link: https://www.defenseworld.net/2025/05/16/strategic-family-wealth-counselors-l-l-c-has-7-48-million-stake-in-apple-inc-nasdaqaapl.html\n",
      "Creator: Defense World Staff\n",
      "Summary: Apple makes up about 2.4% of Strategic Family Wealth Counselors L.L.C.’s investment portfolio, making the stock its 14th largest holding.\n",
      "Strategic Family Wealth Counselors L.L.C.’s holdings in Apple were worth $7,476,000 at the end of the most recent reporting period.\n",
      "O Connor Financial Group LLC increased its holdings in shares of Apple by 1.2% in the fourth quarter.\n",
      "Over the last ninety days, insiders have sold 191,507 shares of company stock valued at $42,694,080.\n",
      "Apple Price PerformanceShares of Apple stock opened at $211.45 on Friday.\n",
      "Article ID: 87fb1d982432d183878ae37bdc2b27c4\n",
      "\n",
      "EXCERPT:\n",
      "Apple Price Performance\n",
      "\n",
      "Shares of Apple stock opened at $211.45 on Friday. The company has a quick ratio of 0.88, a current ratio of 0.92 and a debt-to-equity ratio of 1.26. The stock has a market capitalization of $3.16 trillion, a price-to-earnings ratio of 33.56, a price-to-earnings-growth ratio of 2.44 and a beta of 1.27. Apple Inc. has a twelve month low of $169.21 and a twelve month high of $260.10. The company has a 50-day simple moving average of $206.28 and a two-hundred day simple moving average of $226.84.\n",
      "\n",
      "Apple (NASDAQ:AAPL – Get Free Report) last announced its earnings results on Thursday, May 1st. The iPhone maker reported $1.65 EPS for the quarter, topping the consensus estimate of $1.62 by $0.03. Apple had a net margin of 24.30% and a return on equity of 160.83%. The comp...\n",
      "\n",
      "--------------------------------------------------------------------------------\n",
      "\n",
      "QUERY: Market sentiment about Apple\n",
      "--------------------------------------------------\n",
      "Found 1 results. Showing top 1:\n",
      "\n",
      "Result #1 (Similarity: 0.5061)\n",
      "Title: Expert Outlook: Apple Through The Eyes Of 31 Analysts\n",
      "Source: Benzinga\n",
      "Date: 2025-05-16 18:00:22\n",
      "Chunk: 1 of 7\n",
      "Link: https://www.benzinga.com/insights/analyst-ratings/25/05/45474434/expert-outlook-apple-through-the-eyes-of-31-analysts\n",
      "Creator: Benzinga Insights\n",
      "Summary: 31 analysts have expressed a variety of opinions on Apple AAPL over the past quarter, offering a diverse set of opinions from bullish to bearish.\n",
      "Deciphering Analyst Ratings: An In-Depth AnalysisIn examining recent analyst actions, we gain insights into how financial experts perceive Apple.\n",
      "Responding to changing market dynamics and company performance, analysts update their recommendations.\n",
      "With an impressive ROE of 37.11%, the company demonstrates effective use of equity capital and strong financial performance.\n",
      "These specialists diligently analyze company financial statements, participate in conference calls, and engage with insiders to generate quarterly ratings for individual stocks.\n",
      "Article ID: eb77c3d9551042cf466a697bac188601\n",
      "\n",
      "EXCERPT:\n",
      "31 analysts have expressed a variety of opinions on Apple AAPL over the past quarter, offering a diverse set of opinions from bullish to bearish.\n",
      "\n",
      "The table below provides a snapshot of their recent ratings, showcasing how sentiments have evolved over the past 30 days and comparing them to the preceding months.\n",
      "\n",
      "Bullish Somewhat Bullish Indifferent Somewhat Bearish Bearish Total Ratings 13 10 5 3 0 Last 30D 0 1 0 0 0 1M Ago 4 3 3 2 0 2M Ago 8 3 2 1 0 3M Ago 1 3 0 0 0\n",
      "\n",
      "Analysts have recently evaluated Apple and provided 12-month price targets. The average target is $243.8, accompanied by a high estimate of $325.00 and a low estimate of $167.88. Highlighting a 4.41% decrease, the current average has fallen from the previous average price target of $255.05.\n",
      "\n",
      "Deciphering Analyst Ratings: An In...\n",
      "\n",
      "--------------------------------------------------------------------------------\n"
     ]
    }
   ],
   "source": [
    "# Compare different queries and their results\n",
    "queries = [\n",
    "    \"Apple's financial outlook\",\n",
    "    \"Apple's product strategy\",\n",
    "    \"Apple's stock performance\",\n",
    "    \"Market sentiment about Apple\"\n",
    "]\n",
    "\n",
    "for query in queries:\n",
    "    print(f\"\\nQUERY: {query}\")\n",
    "    print(\"-\" * 50)\n",
    "    results = vdb.query_vector_db(query, collection=collection, n_results=1)\n",
    "    display_search_results(results, limit=1)"
   ]
  },
  {
   "cell_type": "markdown",
   "metadata": {},
   "source": [
    "## 9. Vector Database Statistics and Insights\n",
    "\n",
    "Let's get some information about our vector database:"
   ]
  },
  {
   "cell_type": "code",
   "execution_count": 98,
   "metadata": {},
   "outputs": [
    {
     "name": "stdout",
     "output_type": "stream",
     "text": [
      "Total documents in collection: 1034\n",
      "Number of unique articles: 202\n",
      "Average chunks per article: 5.12\n"
     ]
    }
   ],
   "source": [
    "# Get collection info\n",
    "collection_info = collection.count()\n",
    "print(f\"Total documents in collection: {collection_info}\")\n",
    "\n",
    "# Get unique article IDs\n",
    "all_metadata = collection.get(include=[\"metadatas\"])[\"metadatas\"]\n",
    "unique_articles = set(meta[\"article_id\"] for meta in all_metadata)\n",
    "print(f\"Number of unique articles: {len(unique_articles)}\")\n",
    "\n",
    "# Average chunks per article\n",
    "avg_chunks = collection_info / len(unique_articles) if unique_articles else 0\n",
    "print(f\"Average chunks per article: {avg_chunks:.2f}\")"
   ]
  },
  {
   "cell_type": "markdown",
   "metadata": {},
   "source": [
    "## 10. Conclusion\n",
    "\n",
    "In this notebook, we have demonstrated how to:\n",
    "\n",
    "1. Initialize a sentence-transformer embedding model\n",
    "2. Set up a ChromaDB vector database\n",
    "3. Process financial articles by splitting them into chunks\n",
    "4. Store these chunks with metadata in the vector database\n",
    "5. Perform semantic searches on the articles\n",
    "6. Retrieve and reconstruct full articles\n",
    "\n",
    "This approach allows for efficient retrieval of relevant financial information from a large collection of articles about Apple stock. The vector database can be extended with more articles and integrated into applications for financial analysis, market sentiment tracking, or automated reporting."
   ]
  }
 ],
 "metadata": {
  "kernelspec": {
   "display_name": "trading-agent-Iwjhydeb",
   "language": "python",
   "name": "python3"
  },
  "language_info": {
   "codemirror_mode": {
    "name": "ipython",
    "version": 3
   },
   "file_extension": ".py",
   "mimetype": "text/x-python",
   "name": "python",
   "nbconvert_exporter": "python",
   "pygments_lexer": "ipython3",
   "version": "3.12.6"
  }
 },
 "nbformat": 4,
 "nbformat_minor": 4
}
