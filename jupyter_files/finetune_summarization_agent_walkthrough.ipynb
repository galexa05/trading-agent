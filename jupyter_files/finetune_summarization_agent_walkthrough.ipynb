{
 "cells": [
  {
   "cell_type": "markdown",
   "metadata": {},
   "source": [
    "# Fine-Tuning the Financial News Summarization Model\n",
    "\n",
    "This notebook provides a step-by-step guide to fine-tuning a baseline summarization model for financial news articles. It uses utility functions and classes from the project's `scripts/` directory.\n",
    "\n",
    "**Sections:**\n",
    "1. Data Preparation\n",
    "2. Baseline Model Evaluation\n",
    "3. Fine-Tuning the Model\n",
    "4. Evaluation of the Fine-Tuned Model\n",
    "5. Visual Comparison and Analysis\n"
   ]
  },
  {
   "cell_type": "code",
   "execution_count": 2,
   "metadata": {},
   "outputs": [
    {
     "data": {
      "text/plain": [
       "True"
      ]
     },
     "execution_count": 2,
     "metadata": {},
     "output_type": "execute_result"
    }
   ],
   "source": [
    "# Imports\n",
    "import sys\n",
    "import os\n",
    "sys.path.append('../scripts')\n",
    "from summarization_agent import SummarizationAgent\n",
    "from finetune_summarizer import SummarizerFineTuner\n",
    "import matplotlib.pyplot as plt\n",
    "import json\n",
    "import numpy as np\n",
    "from dotenv import load_dotenv\n",
    "load_dotenv()"
   ]
  },
  {
   "cell_type": "markdown",
   "metadata": {},
   "source": [
    "## 1. Data Preparation\n",
    "\n",
    "We assume articles are already stored in the vector database. If not, use the relevant data collection scripts to populate the database.\n",
    "\n",
    "Instantiate the `SummarizationAgent` to load and inspect available articles."
   ]
  },
  {
   "cell_type": "code",
   "execution_count": null,
   "metadata": {},
   "outputs": [
    {
     "name": "stderr",
     "output_type": "stream",
     "text": [
      "2025-05-17 20:08:04,830 - sentence_transformers.SentenceTransformer - INFO - Load pretrained SentenceTransformer: all-MiniLM-L6-v2\n",
      "2025-05-17 20:08:06,713 - chromadb.telemetry.product.posthog - INFO - Anonymized telemetry enabled. See                     https://docs.trychroma.com/telemetry for more information.\n",
      "2025-05-17 20:08:06,797 - absl - INFO - Using default tokenizer.\n"
     ]
    },
    {
     "name": "stdout",
     "output_type": "stream",
     "text": [
      "Initializing ChromaDB with persistence directory: ../data/chroma_db\n",
      "Loaded existing collection 'financial_articles'\n",
      "Collection 'financial_articles' contains 1034 documents\n"
     ]
    },
    {
     "name": "stderr",
     "output_type": "stream",
     "text": [
      "/Users/giannisalexandrou/Documents/Personal Projects/Trading-Agent/trading-agent/jupyter_files/../scripts/summarization_agent.py:95: LangChainDeprecationWarning: The class `HuggingFaceHub` was deprecated in LangChain 0.0.21 and will be removed in 1.0. An updated version of the class exists in the :class:`~langchain-huggingface package and should be used instead. To use it run `pip install -U :class:`~langchain-huggingface` and import as `from :class:`~langchain_huggingface import HuggingFaceEndpoint``.\n",
      "  self.baseline_llm = HuggingFaceHub(\n",
      "2025-05-17 20:08:06,978 - summarization_agent - INFO - Using HuggingFace BART model as baseline\n",
      "/Users/giannisalexandrou/Documents/Personal Projects/Trading-Agent/trading-agent/jupyter_files/../scripts/summarization_agent.py:113: LangChainDeprecationWarning: The class `LLMChain` was deprecated in LangChain 0.1.17 and will be removed in 1.0. Use :meth:`~RunnableSequence, e.g., `prompt | llm`` instead.\n",
      "  self.baseline_chain = LLMChain(\n",
      "2025-05-17 20:08:07,183 - summarization_agent - INFO - Fine-tuned model initialized\n"
     ]
    },
    {
     "data": {
      "application/vnd.jupyter.widget-view+json": {
       "model_id": "cdadd846fb4343e9b71f3c5d37767566",
       "version_major": 2,
       "version_minor": 0
      },
      "text/plain": [
       "Batches:   0%|          | 0/1 [00:00<?, ?it/s]"
      ]
     },
     "metadata": {},
     "output_type": "display_data"
    },
    {
     "name": "stdout",
     "output_type": "stream",
     "text": [
      "Found 20 results. Showing top 3:\n",
      "\n",
      "Result #1 (Similarity: 0.4080)\n",
      "Title: Apple Inc. (NASDAQ:AAPL) Position Increased by Schrum Private Wealth Management LLC\n",
      "Source: Defenseworld Net\n",
      "Date: 2025-05-16 07:34:55\n",
      "Chunk: 6 of 6\n",
      "Link: https://www.defenseworld.net/2025/05/16/apple-inc-nasdaqaapl-position-increased-by-schrum-private-wealth-management-llc.html\n",
      "Creator: Defense World Staff\n",
      "Summary: Apple makes up about 5.4% of Schrum Private Wealth Management LLC’s portfolio, making the stock its 3rd biggest position.\n",
      "Schrum Private Wealth Management LLC’s holdings in Apple were worth $6,365,000 as of its most recent filing with the Securities and Exchange Commission.\n",
      "Drystone LLC purchased a new stake in shares of Apple in the 4th quarter valued at $25,000.\n",
      "According to data from MarketBeat, the stock presently has an average rating of “Hold” and an average target price of $235.80.\n",
      "Insiders sold a total of 191,507 shares of company stock valued at $42,694,080 over the last 90 days.\n",
      "Article ID: 4d8838536475c6a75a2f050722086315\n",
      "\n",
      "EXCERPT:\n",
      "Featured Stories\n",
      "\n",
      "Want to see what other hedge funds are holding AAPL? Visit HoldingsChannel.com to get the latest 13F filings and insider trades for Apple Inc. (NASDAQ:AAPL – Free Report).\n",
      "\n",
      "Receive News & Ratings for Apple Daily - Enter your email address below to receive a concise daily summary of...\n",
      "\n",
      "--------------------------------------------------------------------------------\n",
      "Result #2 (Similarity: 0.4040)\n",
      "Title: E Fund Management Co. Ltd. Increases Stake in Apple Inc. (NASDAQ:AAPL)\n",
      "Source: Defenseworld Net\n",
      "Date: 2025-05-16 07:34:59\n",
      "Chunk: 8 of 8\n",
      "Link: https://www.defenseworld.net/2025/05/16/e-fund-management-co-ltd-increases-stake-in-apple-inc-nasdaqaapl.html\n",
      "Creator: Defense World Staff\n",
      "Summary: Apple accounts for approximately 6.6% of E Fund Management Co. Ltd.’s investment portfolio, making the stock its 3rd biggest holding.\n",
      "E Fund Management Co. Ltd.’s holdings in Apple were worth $132,078,000 at the end of the most recent quarter.\n",
      "Geode Capital Management LLC boosted its holdings in shares of Apple by 6.5% during the third quarter.\n",
      "Charles Schwab Investment Management Inc. boosted its holdings in shares of Apple by 3.3% during the fourth quarter.\n",
      "Finally, UBS AM a distinct business unit of UBS ASSET MANAGEMENT AMERICAS LLC boosted its stake in shares of Apple by 1.9% in the third quarter.\n",
      "Article ID: 84b5341eaf6ae18b510354e274b70de3\n",
      "\n",
      "EXCERPT:\n",
      "Recommended Stories\n",
      "\n",
      "Want to see what other hedge funds are holding AAPL? Visit HoldingsChannel.com to get the latest 13F filings and insider trades for Apple Inc. (NASDAQ:AAPL – Free Report).\n",
      "\n",
      "Receive News & Ratings for Apple Daily - Enter your email address below to receive a concise daily summary...\n",
      "\n",
      "--------------------------------------------------------------------------------\n",
      "Result #3 (Similarity: 0.3797)\n",
      "Title: Apple Inc. (NASDAQ:AAPL) Stock Position Cut by Washington Trust Advisors Inc.\n",
      "Source: Defenseworld Net\n",
      "Date: 2025-05-16 07:34:55\n",
      "Chunk: 7 of 7\n",
      "Link: https://www.defenseworld.net/2025/05/16/apple-inc-nasdaqaapl-stock-position-cut-by-washington-trust-advisors-inc.html\n",
      "Creator: Defense World Staff\n",
      "Summary: Apple accounts for about 6.5% of Washington Trust Advisors Inc.’s portfolio, making the stock its biggest holding.\n",
      "Washington Trust Advisors Inc.’s holdings in Apple were worth $77,935,000 as of its most recent filing with the SEC.\n",
      "Safe Harbor Fiduciary LLC acquired a new position in shares of Apple during the 3rd quarter worth $4,972,000.\n",
      "Insider Transactions at AppleIn other news, COO Jeffrey E. Williams sold 35,493 shares of Apple stock in a transaction dated Wednesday, April 2nd.\n",
      "Also, insider Chris Kondo sold 4,486 shares of Apple stock in a transaction that occurred on Monday, May 12th.\n",
      "Article ID: ebe6f03bce26d44ed87f2a217638b4fb\n",
      "\n",
      "EXCERPT:\n",
      "Read More\n",
      "\n",
      "Want to see what other hedge funds are holding AAPL? Visit HoldingsChannel.com to get the latest 13F filings and insider trades for Apple Inc. (NASDAQ:AAPL – Free Report).\n",
      "\n",
      "Receive News & Ratings for Apple Daily - Enter your email address below to receive a concise daily summary of the la...\n",
      "\n",
      "--------------------------------------------------------------------------------\n"
     ]
    },
    {
     "data": {
      "application/vnd.jupyter.widget-view+json": {
       "model_id": "db176cfbda79446a9fedeef6b0f1b92c",
       "version_major": 2,
       "version_minor": 0
      },
      "text/plain": [
       "Batches:   0%|          | 0/1 [00:00<?, ?it/s]"
      ]
     },
     "metadata": {},
     "output_type": "display_data"
    },
    {
     "name": "stdout",
     "output_type": "stream",
     "text": [
      "Found 20 results. Showing top 3:\n",
      "\n",
      "Result #1 (Similarity: 0.0635)\n",
      "Title: Comerica Bank Sells 498 Shares of Heritage Financial Co. (NASDAQ:HFWA)\n",
      "Source: Defenseworld Net\n",
      "Date: 2025-05-16 09:02:48\n",
      "Chunk: 2 of 5\n",
      "Link: https://www.defenseworld.net/2025/05/16/comerica-bank-sells-498-shares-of-heritage-financial-co-nasdaqhfwa.html\n",
      "Creator: Defense World Staff\n",
      "Summary: Finally, Stifel Financial Corp purchased a new stake in shares of Heritage Financial in the fourth quarter worth $205,000.\n",
      "Heritage Financial Dividend AnnouncementThe business also recently disclosed a quarterly dividend, which will be paid on Wednesday, May 21st.\n",
      "Heritage Financial Company Profile(Free Report)Heritage Financial Corporation operates as the bank holding company for Heritage Bank that provides various financial services to small and medium sized businesses and individuals in the United States.\n",
      "Visit HoldingsChannel.com to get the latest 13F filings and insider trades for Heritage Financial Co. (NASDAQ:HFWA – Free Report).\n",
      "Receive News & Ratings for Heritage Financial Daily - Enter your email address below to receive a concise daily summary of the latest news and analysts' ratings for Heritage Financial and related companies with MarketBeat.com's FREE daily email newsletter.\n",
      "Article ID: aed1264cc6d4c6946a22684e0bac848d\n",
      "\n",
      "EXCERPT:\n",
      "Analyst Ratings Changes\n",
      "\n",
      "Several research analysts have issued reports on the company. Piper Sandler dropped their target price on Heritage Financial from $34.00 to $31.00 and set an “overweight” rating on the stock in a research report on Monday, April 28th. StockNews.com raised Heritage Financial ...\n",
      "\n",
      "--------------------------------------------------------------------------------\n",
      "Result #2 (Similarity: 0.0405)\n",
      "Title: Retail Stocks To Watch Now – May 14th\n",
      "Source: Defenseworld Net\n",
      "Date: 2025-05-16 06:36:49\n",
      "Chunk: 2 of 5\n",
      "Link: https://www.defenseworld.net/2025/05/16/retail-stocks-to-watch-now-may-14th.html\n",
      "Creator: Defense World Staff\n",
      "Summary: Get alerts:Tesla, UnitedHealth Group, and Apple are the three Retail stocks to watch today, according to MarketBeat’s stock screener tool.\n",
      "These companies had the highest dollar trading volume of any Retail stocks within the last several days.\n",
      "The firm’s fifty day moving average is $260.85 and its 200 day moving average is $328.28.\n",
      "The business’s 50 day moving average price is $482.53 and its 200 day moving average price is $519.28.\n",
      "The firm has a fifty day moving average price of $207.14 and a 200 day moving average price of $227.09.\n",
      "Article ID: 2389c91cfb8994f493f0bfd5aeb8bfb0\n",
      "\n",
      "EXCERPT:\n",
      "Tesla, Inc. designs, develops, manufactures, leases, and sells electric vehicles, and energy generation and storage systems in the United States, China, and internationally. The company operates in two segments, Automotive, and Energy Generation and Storage. The Automotive segment offers electric ve...\n",
      "\n",
      "--------------------------------------------------------------------------------\n",
      "Result #3 (Similarity: 0.0027)\n",
      "Title: Comerica Bank Sells 498 Shares of Heritage Financial Co. (NASDAQ:HFWA)\n",
      "Source: Defenseworld Net\n",
      "Date: 2025-05-16 09:02:48\n",
      "Chunk: 3 of 5\n",
      "Link: https://www.defenseworld.net/2025/05/16/comerica-bank-sells-498-shares-of-heritage-financial-co-nasdaqhfwa.html\n",
      "Creator: Defense World Staff\n",
      "Summary: Finally, Stifel Financial Corp purchased a new stake in shares of Heritage Financial in the fourth quarter worth $205,000.\n",
      "Heritage Financial Dividend AnnouncementThe business also recently disclosed a quarterly dividend, which will be paid on Wednesday, May 21st.\n",
      "Heritage Financial Company Profile(Free Report)Heritage Financial Corporation operates as the bank holding company for Heritage Bank that provides various financial services to small and medium sized businesses and individuals in the United States.\n",
      "Visit HoldingsChannel.com to get the latest 13F filings and insider trades for Heritage Financial Co. (NASDAQ:HFWA – Free Report).\n",
      "Receive News & Ratings for Heritage Financial Daily - Enter your email address below to receive a concise daily summary of the latest news and analysts' ratings for Heritage Financial and related companies with MarketBeat.com's FREE daily email newsletter.\n",
      "Article ID: aed1264cc6d4c6946a22684e0bac848d\n",
      "\n",
      "EXCERPT:\n",
      "Heritage Financial Trading Up 1.2%\n",
      "\n",
      "Shares of NASDAQ HFWA opened at $24.29 on Friday. The company has a debt-to-equity ratio of 0.47, a current ratio of 0.84 and a quick ratio of 0.82. The stock has a market capitalization of $828.43 million, a P/E ratio of 19.59 and a beta of 0.53. Heritage Financi...\n",
      "\n",
      "--------------------------------------------------------------------------------\n"
     ]
    }
   ],
   "source": [
    "# Adjust these paths as needed\n",
    "DB_PATH = '../data/chroma_db'\n",
    "COLLECTION_NAME = 'financial_articles'\n",
    "huggingface_api_token = os.environ.get(\"HUGGINGFACEHUB_API_TOKEN\")\n",
    "agent = SummarizationAgent(db_path=DB_PATH, collection_name=COLLECTION_NAME,huggingface_api_token=huggingface_api_token)\n",
    "\n",
    "# Example: Retrieve articles for AAPL and TSLA (adjust tickers as needed)\n",
    "tickers = ['AAPL', 'TSLA']\n",
    "articles = agent.get_articles_for_portfolio(tickers, days_back=30, article_limit=20)\n",
    "# print(f'Total articles loaded: {len(articles)}')"
   ]
  },
  {
   "cell_type": "markdown",
   "metadata": {},
   "source": [
    "## 2. Baseline Model Evaluation\n",
    "\n",
    "Generate summaries using the baseline model and evaluate them with ROUGE metrics."
   ]
  },
  {
   "cell_type": "code",
   "execution_count": null,
   "id": "0ab6481b",
   "metadata": {},
   "outputs": [],
   "source": [
    "articles[0]['document']"
   ]
  },
  {
   "cell_type": "code",
   "execution_count": null,
   "id": "be17a7a6",
   "metadata": {},
   "outputs": [],
   "source": [
    "# Generate baseline summaries\n",
    "articles_with_summaries = agent.generate_summaries(articles)"
   ]
  },
  {
   "cell_type": "code",
   "execution_count": null,
   "id": "a016961c",
   "metadata": {},
   "outputs": [],
   "source": [
    "agent.huggingface_api_token"
   ]
  },
  {
   "cell_type": "code",
   "execution_count": null,
   "id": "c7b94ad8",
   "metadata": {},
   "outputs": [],
   "source": [
    "articles_with_summaries[0].keys()"
   ]
  },
  {
   "cell_type": "code",
   "execution_count": null,
   "id": "d6cb3287",
   "metadata": {},
   "outputs": [],
   "source": [
    "articles_with_summaries[1]['baseline_summary']"
   ]
  },
  {
   "cell_type": "code",
   "execution_count": null,
   "id": "2c6b75a7",
   "metadata": {},
   "outputs": [],
   "source": [
    "articles_with_summaries[1]['metadata']"
   ]
  },
  {
   "cell_type": "code",
   "execution_count": null,
   "id": "27b49a70",
   "metadata": {},
   "outputs": [],
   "source": [
    "\n",
    "\n",
    "# Evaluate baseline summaries\n",
    "baseline_metrics = agent.evaluate_summaries(articles_with_summaries)\n",
    "print('Baseline ROUGE scores:', baseline_metrics['baseline'])"
   ]
  },
  {
   "cell_type": "markdown",
   "metadata": {},
   "source": [
    "## 3. Fine-Tuning the Model\n",
    "\n",
    "We use the `SummarizerFineTuner` class to fine-tune the model on the financial news dataset.\n",
    "\n",
    "**Note:** Fine-tuning may take a long time and require a GPU. Adjust parameters as needed."
   ]
  },
  {
   "cell_type": "code",
   "execution_count": null,
   "metadata": {},
   "outputs": [],
   "source": [
    "# Set up fine-tuner\n",
    "OUTPUT_DIR = '../models/finetuned_summarizer'\n",
    "fine_tuner = SummarizerFineTuner(\n",
    "    base_model='facebook/bart-large-cnn',\n",
    "    db_path=DB_PATH,\n",
    "    collection_name=COLLECTION_NAME,\n",
    "    output_dir=OUTPUT_DIR\n",
    ")\n",
    "\n",
    "# Fine-tune the model (this may take a while)\n",
    "finetune_metrics = fine_tuner.finetune(batch_size=4, epochs=3, learning_rate=5e-5)\n",
    "print('Fine-tuning complete! Metrics:', finetune_metrics)"
   ]
  },
  {
   "cell_type": "markdown",
   "metadata": {},
   "source": [
    "## 4. Evaluation of the Fine-Tuned Model\n",
    "\n",
    "Reload the agent to use the fine-tuned model and generate new summaries for evaluation."
   ]
  },
  {
   "cell_type": "code",
   "execution_count": null,
   "metadata": {},
   "outputs": [],
   "source": [
    "# Reload agent to use fine-tuned model\n",
    "agent = SummarizationAgent(db_path=DB_PATH, collection_name=COLLECTION_NAME, model_dir=OUTPUT_DIR)\n",
    "\n",
    "# Generate summaries with the fine-tuned model\n",
    "finetuned_articles = agent.generate_summaries(articles)\n",
    "\n",
    "# Evaluate fine-tuned summaries\n",
    "finetuned_metrics = agent.evaluate_summaries(finetuned_articles)\n",
    "print('Fine-tuned ROUGE scores:', finetuned_metrics['finetuned'])"
   ]
  },
  {
   "cell_type": "markdown",
   "metadata": {},
   "source": [
    "## 5. Visual Comparison and Analysis\n",
    "\n",
    "Let's visualize the ROUGE scores for baseline and fine-tuned models."
   ]
  },
  {
   "cell_type": "code",
   "execution_count": null,
   "metadata": {},
   "outputs": [],
   "source": [
    "# Plot ROUGE scores\n",
    "labels = ['ROUGE-1', 'ROUGE-2', 'ROUGE-L']\n",
    "baseline_scores = [baseline_metrics['baseline']['avg_rouge1'], baseline_metrics['baseline']['avg_rouge2'], baseline_metrics['baseline']['avg_rougeL']]\n",
    "finetuned_scores = [finetuned_metrics['finetuned']['avg_rouge1'], finetuned_metrics['finetuned']['avg_rouge2'], finetuned_metrics['finetuned']['avg_rougeL']]\n",
    "\n",
    "x = range(len(labels))\n",
    "plt.figure(figsize=(8, 5))\n",
    "plt.bar(x, baseline_scores, width=0.35, label='Baseline', align='center')\n",
    "plt.bar([i + 0.35 for i in x], finetuned_scores, width=0.35, label='Fine-tuned', align='center')\n",
    "plt.xticks([i + 0.175 for i in x], labels)\n",
    "plt.ylabel('ROUGE Score')\n",
    "plt.title('Baseline vs. Fine-Tuned Model ROUGE Scores')\n",
    "plt.legend()\n",
    "plt.show()"
   ]
  },
  {
   "cell_type": "markdown",
   "metadata": {},
   "source": [
    "---\n",
    "\n",
    "**Congratulations!** You've now fine-tuned and evaluated your financial news summarization model.\n",
    "\n",
    "You can further experiment with different models, hyperparameters, and datasets to improve performance."
   ]
  }
 ],
 "metadata": {
  "kernelspec": {
   "display_name": "trading-agent-Iwjhydeb",
   "language": "python",
   "name": "python3"
  },
  "language_info": {
   "codemirror_mode": {
    "name": "ipython",
    "version": 3
   },
   "file_extension": ".py",
   "mimetype": "text/x-python",
   "name": "python",
   "nbconvert_exporter": "python",
   "pygments_lexer": "ipython3",
   "version": "3.12.6"
  }
 },
 "nbformat": 4,
 "nbformat_minor": 5
}
