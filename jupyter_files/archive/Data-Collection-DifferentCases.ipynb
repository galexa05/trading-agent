{
 "cells": [
  {
   "cell_type": "code",
   "execution_count": null,
   "id": "18be4e5b",
   "metadata": {},
   "outputs": [],
   "source": [
    "import pandas as pd\n",
    "import numpy as np \n",
    "import yfinance as yf\n",
    "import os\n",
    "from dotenv import load_dotenv\n",
    "load_dotenv()"
   ]
  },
  {
   "cell_type": "code",
   "execution_count": 2,
   "id": "723a9f72",
   "metadata": {},
   "outputs": [],
   "source": [
    "# portfolio = ['AAPL', 'MSFT', 'GOOGL']\n",
    "# Select Apple Inc. as the stock portfolio\n",
    "portfolio = 'AAPL'"
   ]
  },
  {
   "cell_type": "markdown",
   "id": "4e5769cb",
   "metadata": {},
   "source": [
    "## Collect Data using yfinance library"
   ]
  },
  {
   "cell_type": "code",
   "execution_count": 3,
   "id": "72faf857",
   "metadata": {},
   "outputs": [],
   "source": [
    "ticker = yf.Ticker(portfolio)"
   ]
  },
  {
   "cell_type": "code",
   "execution_count": 29,
   "id": "04002818",
   "metadata": {},
   "outputs": [],
   "source": [
    "from itertools import count\n",
    "\n",
    "\n",
    "new_items = ticker.get_news(count=100)"
   ]
  },
  {
   "cell_type": "code",
   "execution_count": 30,
   "id": "faacf966",
   "metadata": {},
   "outputs": [
    {
     "data": {
      "text/plain": [
       "10"
      ]
     },
     "execution_count": 30,
     "metadata": {},
     "output_type": "execute_result"
    }
   ],
   "source": [
    "len(new_items)"
   ]
  },
  {
   "cell_type": "code",
   "execution_count": null,
   "id": "34dad5e9",
   "metadata": {},
   "outputs": [],
   "source": [
    "for symbol in portfolio:\n",
    "    ticker = yf.Ticker(symbol)\n",
    "    news_items = ticker.news  # List of news articles\n",
    "    print(f\"News for {symbol}:\")\n",
    "    for item in news_items:\n",
    "        print(f\"- {item['title']} ({item['publisher']})\")\n",
    "        print(f\"  Link: {item['link']}\")\n",
    "    print(\"\\n\")"
   ]
  },
  {
   "cell_type": "code",
   "execution_count": 28,
   "id": "3efff723",
   "metadata": {},
   "outputs": [
    {
     "data": {
      "text/html": [
       "<div>\n",
       "<style scoped>\n",
       "    .dataframe tbody tr th:only-of-type {\n",
       "        vertical-align: middle;\n",
       "    }\n",
       "\n",
       "    .dataframe tbody tr th {\n",
       "        vertical-align: top;\n",
       "    }\n",
       "\n",
       "    .dataframe thead th {\n",
       "        text-align: right;\n",
       "    }\n",
       "</style>\n",
       "<table border=\"1\" class=\"dataframe\">\n",
       "  <thead>\n",
       "    <tr style=\"text-align: right;\">\n",
       "      <th></th>\n",
       "      <th>Open</th>\n",
       "      <th>High</th>\n",
       "      <th>Low</th>\n",
       "      <th>Close</th>\n",
       "      <th>Volume</th>\n",
       "      <th>Dividends</th>\n",
       "      <th>Stock Splits</th>\n",
       "    </tr>\n",
       "    <tr>\n",
       "      <th>Date</th>\n",
       "      <th></th>\n",
       "      <th></th>\n",
       "      <th></th>\n",
       "      <th></th>\n",
       "      <th></th>\n",
       "      <th></th>\n",
       "      <th></th>\n",
       "    </tr>\n",
       "  </thead>\n",
       "  <tbody>\n",
       "    <tr>\n",
       "      <th>2025-04-14 00:00:00-04:00</th>\n",
       "      <td>211.163092</td>\n",
       "      <td>212.661128</td>\n",
       "      <td>200.896557</td>\n",
       "      <td>202.254776</td>\n",
       "      <td>101352900</td>\n",
       "      <td>0.00</td>\n",
       "      <td>0.0</td>\n",
       "    </tr>\n",
       "    <tr>\n",
       "      <th>2025-04-15 00:00:00-04:00</th>\n",
       "      <td>201.595643</td>\n",
       "      <td>203.243476</td>\n",
       "      <td>199.538343</td>\n",
       "      <td>201.875275</td>\n",
       "      <td>51343900</td>\n",
       "      <td>0.00</td>\n",
       "      <td>0.0</td>\n",
       "    </tr>\n",
       "    <tr>\n",
       "      <th>2025-04-16 00:00:00-04:00</th>\n",
       "      <td>198.100219</td>\n",
       "      <td>200.437151</td>\n",
       "      <td>192.118058</td>\n",
       "      <td>194.015579</td>\n",
       "      <td>59732400</td>\n",
       "      <td>0.00</td>\n",
       "      <td>0.0</td>\n",
       "    </tr>\n",
       "    <tr>\n",
       "      <th>2025-04-17 00:00:00-04:00</th>\n",
       "      <td>196.941744</td>\n",
       "      <td>198.569614</td>\n",
       "      <td>194.165386</td>\n",
       "      <td>196.722031</td>\n",
       "      <td>51334300</td>\n",
       "      <td>0.00</td>\n",
       "      <td>0.0</td>\n",
       "    </tr>\n",
       "    <tr>\n",
       "      <th>2025-04-21 00:00:00-04:00</th>\n",
       "      <td>193.016885</td>\n",
       "      <td>193.546189</td>\n",
       "      <td>189.561409</td>\n",
       "      <td>192.907028</td>\n",
       "      <td>46742500</td>\n",
       "      <td>0.00</td>\n",
       "      <td>0.0</td>\n",
       "    </tr>\n",
       "    <tr>\n",
       "      <th>2025-04-22 00:00:00-04:00</th>\n",
       "      <td>195.863154</td>\n",
       "      <td>201.325992</td>\n",
       "      <td>195.713357</td>\n",
       "      <td>199.478424</td>\n",
       "      <td>52976400</td>\n",
       "      <td>0.00</td>\n",
       "      <td>0.0</td>\n",
       "    </tr>\n",
       "    <tr>\n",
       "      <th>2025-04-23 00:00:00-04:00</th>\n",
       "      <td>205.730222</td>\n",
       "      <td>207.727603</td>\n",
       "      <td>202.534416</td>\n",
       "      <td>204.332062</td>\n",
       "      <td>52929200</td>\n",
       "      <td>0.00</td>\n",
       "      <td>0.0</td>\n",
       "    </tr>\n",
       "    <tr>\n",
       "      <th>2025-04-24 00:00:00-04:00</th>\n",
       "      <td>204.621669</td>\n",
       "      <td>208.556511</td>\n",
       "      <td>202.674226</td>\n",
       "      <td>208.097107</td>\n",
       "      <td>47311000</td>\n",
       "      <td>0.00</td>\n",
       "      <td>0.0</td>\n",
       "    </tr>\n",
       "    <tr>\n",
       "      <th>2025-04-25 00:00:00-04:00</th>\n",
       "      <td>206.099728</td>\n",
       "      <td>209.475306</td>\n",
       "      <td>205.929952</td>\n",
       "      <td>209.005920</td>\n",
       "      <td>38222300</td>\n",
       "      <td>0.00</td>\n",
       "      <td>0.0</td>\n",
       "    </tr>\n",
       "    <tr>\n",
       "      <th>2025-04-28 00:00:00-04:00</th>\n",
       "      <td>209.724976</td>\n",
       "      <td>211.223011</td>\n",
       "      <td>207.188309</td>\n",
       "      <td>209.864792</td>\n",
       "      <td>38743100</td>\n",
       "      <td>0.00</td>\n",
       "      <td>0.0</td>\n",
       "    </tr>\n",
       "    <tr>\n",
       "      <th>2025-04-29 00:00:00-04:00</th>\n",
       "      <td>208.416691</td>\n",
       "      <td>211.962045</td>\n",
       "      <td>208.097103</td>\n",
       "      <td>210.933395</td>\n",
       "      <td>36827600</td>\n",
       "      <td>0.00</td>\n",
       "      <td>0.0</td>\n",
       "    </tr>\n",
       "    <tr>\n",
       "      <th>2025-04-30 00:00:00-04:00</th>\n",
       "      <td>209.025904</td>\n",
       "      <td>213.300298</td>\n",
       "      <td>206.399343</td>\n",
       "      <td>212.221710</td>\n",
       "      <td>52286500</td>\n",
       "      <td>0.00</td>\n",
       "      <td>0.0</td>\n",
       "    </tr>\n",
       "    <tr>\n",
       "      <th>2025-05-01 00:00:00-04:00</th>\n",
       "      <td>208.806182</td>\n",
       "      <td>214.279000</td>\n",
       "      <td>208.626409</td>\n",
       "      <td>213.040634</td>\n",
       "      <td>57365700</td>\n",
       "      <td>0.00</td>\n",
       "      <td>0.0</td>\n",
       "    </tr>\n",
       "    <tr>\n",
       "      <th>2025-05-02 00:00:00-04:00</th>\n",
       "      <td>205.820091</td>\n",
       "      <td>206.718922</td>\n",
       "      <td>201.895245</td>\n",
       "      <td>205.081070</td>\n",
       "      <td>101010600</td>\n",
       "      <td>0.00</td>\n",
       "      <td>0.0</td>\n",
       "    </tr>\n",
       "    <tr>\n",
       "      <th>2025-05-05 00:00:00-04:00</th>\n",
       "      <td>202.834025</td>\n",
       "      <td>203.832716</td>\n",
       "      <td>197.950430</td>\n",
       "      <td>198.629532</td>\n",
       "      <td>69018500</td>\n",
       "      <td>0.00</td>\n",
       "      <td>0.0</td>\n",
       "    </tr>\n",
       "    <tr>\n",
       "      <th>2025-05-06 00:00:00-04:00</th>\n",
       "      <td>197.950420</td>\n",
       "      <td>200.387212</td>\n",
       "      <td>196.761976</td>\n",
       "      <td>198.250015</td>\n",
       "      <td>51216500</td>\n",
       "      <td>0.00</td>\n",
       "      <td>0.0</td>\n",
       "    </tr>\n",
       "    <tr>\n",
       "      <th>2025-05-07 00:00:00-04:00</th>\n",
       "      <td>198.909155</td>\n",
       "      <td>199.178806</td>\n",
       "      <td>192.996910</td>\n",
       "      <td>195.992981</td>\n",
       "      <td>68536700</td>\n",
       "      <td>0.00</td>\n",
       "      <td>0.0</td>\n",
       "    </tr>\n",
       "    <tr>\n",
       "      <th>2025-05-08 00:00:00-04:00</th>\n",
       "      <td>197.461064</td>\n",
       "      <td>199.788014</td>\n",
       "      <td>194.425036</td>\n",
       "      <td>197.231369</td>\n",
       "      <td>50478900</td>\n",
       "      <td>0.00</td>\n",
       "      <td>0.0</td>\n",
       "    </tr>\n",
       "    <tr>\n",
       "      <th>2025-05-09 00:00:00-04:00</th>\n",
       "      <td>198.739390</td>\n",
       "      <td>200.277366</td>\n",
       "      <td>197.281295</td>\n",
       "      <td>198.270004</td>\n",
       "      <td>36453900</td>\n",
       "      <td>0.00</td>\n",
       "      <td>0.0</td>\n",
       "    </tr>\n",
       "    <tr>\n",
       "      <th>2025-05-12 00:00:00-04:00</th>\n",
       "      <td>210.970001</td>\n",
       "      <td>211.270004</td>\n",
       "      <td>206.750000</td>\n",
       "      <td>210.789993</td>\n",
       "      <td>63775800</td>\n",
       "      <td>0.26</td>\n",
       "      <td>0.0</td>\n",
       "    </tr>\n",
       "    <tr>\n",
       "      <th>2025-05-13 00:00:00-04:00</th>\n",
       "      <td>210.429993</td>\n",
       "      <td>213.399994</td>\n",
       "      <td>209.080002</td>\n",
       "      <td>212.929993</td>\n",
       "      <td>51219572</td>\n",
       "      <td>0.00</td>\n",
       "      <td>0.0</td>\n",
       "    </tr>\n",
       "  </tbody>\n",
       "</table>\n",
       "</div>"
      ],
      "text/plain": [
       "                                 Open        High         Low       Close  \\\n",
       "Date                                                                        \n",
       "2025-04-14 00:00:00-04:00  211.163092  212.661128  200.896557  202.254776   \n",
       "2025-04-15 00:00:00-04:00  201.595643  203.243476  199.538343  201.875275   \n",
       "2025-04-16 00:00:00-04:00  198.100219  200.437151  192.118058  194.015579   \n",
       "2025-04-17 00:00:00-04:00  196.941744  198.569614  194.165386  196.722031   \n",
       "2025-04-21 00:00:00-04:00  193.016885  193.546189  189.561409  192.907028   \n",
       "2025-04-22 00:00:00-04:00  195.863154  201.325992  195.713357  199.478424   \n",
       "2025-04-23 00:00:00-04:00  205.730222  207.727603  202.534416  204.332062   \n",
       "2025-04-24 00:00:00-04:00  204.621669  208.556511  202.674226  208.097107   \n",
       "2025-04-25 00:00:00-04:00  206.099728  209.475306  205.929952  209.005920   \n",
       "2025-04-28 00:00:00-04:00  209.724976  211.223011  207.188309  209.864792   \n",
       "2025-04-29 00:00:00-04:00  208.416691  211.962045  208.097103  210.933395   \n",
       "2025-04-30 00:00:00-04:00  209.025904  213.300298  206.399343  212.221710   \n",
       "2025-05-01 00:00:00-04:00  208.806182  214.279000  208.626409  213.040634   \n",
       "2025-05-02 00:00:00-04:00  205.820091  206.718922  201.895245  205.081070   \n",
       "2025-05-05 00:00:00-04:00  202.834025  203.832716  197.950430  198.629532   \n",
       "2025-05-06 00:00:00-04:00  197.950420  200.387212  196.761976  198.250015   \n",
       "2025-05-07 00:00:00-04:00  198.909155  199.178806  192.996910  195.992981   \n",
       "2025-05-08 00:00:00-04:00  197.461064  199.788014  194.425036  197.231369   \n",
       "2025-05-09 00:00:00-04:00  198.739390  200.277366  197.281295  198.270004   \n",
       "2025-05-12 00:00:00-04:00  210.970001  211.270004  206.750000  210.789993   \n",
       "2025-05-13 00:00:00-04:00  210.429993  213.399994  209.080002  212.929993   \n",
       "\n",
       "                              Volume  Dividends  Stock Splits  \n",
       "Date                                                           \n",
       "2025-04-14 00:00:00-04:00  101352900       0.00           0.0  \n",
       "2025-04-15 00:00:00-04:00   51343900       0.00           0.0  \n",
       "2025-04-16 00:00:00-04:00   59732400       0.00           0.0  \n",
       "2025-04-17 00:00:00-04:00   51334300       0.00           0.0  \n",
       "2025-04-21 00:00:00-04:00   46742500       0.00           0.0  \n",
       "2025-04-22 00:00:00-04:00   52976400       0.00           0.0  \n",
       "2025-04-23 00:00:00-04:00   52929200       0.00           0.0  \n",
       "2025-04-24 00:00:00-04:00   47311000       0.00           0.0  \n",
       "2025-04-25 00:00:00-04:00   38222300       0.00           0.0  \n",
       "2025-04-28 00:00:00-04:00   38743100       0.00           0.0  \n",
       "2025-04-29 00:00:00-04:00   36827600       0.00           0.0  \n",
       "2025-04-30 00:00:00-04:00   52286500       0.00           0.0  \n",
       "2025-05-01 00:00:00-04:00   57365700       0.00           0.0  \n",
       "2025-05-02 00:00:00-04:00  101010600       0.00           0.0  \n",
       "2025-05-05 00:00:00-04:00   69018500       0.00           0.0  \n",
       "2025-05-06 00:00:00-04:00   51216500       0.00           0.0  \n",
       "2025-05-07 00:00:00-04:00   68536700       0.00           0.0  \n",
       "2025-05-08 00:00:00-04:00   50478900       0.00           0.0  \n",
       "2025-05-09 00:00:00-04:00   36453900       0.00           0.0  \n",
       "2025-05-12 00:00:00-04:00   63775800       0.26           0.0  \n",
       "2025-05-13 00:00:00-04:00   51219572       0.00           0.0  "
      ]
     },
     "execution_count": 28,
     "metadata": {},
     "output_type": "execute_result"
    }
   ],
   "source": [
    "ticker.history(period='1mo')"
   ]
  },
  {
   "cell_type": "markdown",
   "id": "adda1566",
   "metadata": {},
   "source": [
    "### Challenges of using yfinance library\n",
    "- It only gets the 10 last articles from the spcified sotck portfolio\n",
    "- It doesn't contain the full context on its response\n"
   ]
  },
  {
   "cell_type": "markdown",
   "id": "50b1ab35",
   "metadata": {},
   "source": [
    "## Collect data via NewsAPI"
   ]
  },
  {
   "cell_type": "code",
   "execution_count": null,
   "id": "a7469545",
   "metadata": {},
   "outputs": [],
   "source": [
    "from newsapi import NewsApiClient\n",
    "API_KEY_newapi = os.getenv('NEWS_API')\n",
    "api = NewsApiClient(api_key=API_KEY_newapi)\n",
    "res = api.get_everything(q='AAPL', language='en', page_size=1)"
   ]
  },
  {
   "cell_type": "code",
   "execution_count": 46,
   "id": "a2275fe3",
   "metadata": {},
   "outputs": [
    {
     "data": {
      "text/plain": [
       "{'status': 'ok',\n",
       " 'totalResults': 788,\n",
       " 'articles': [{'source': {'id': None, 'name': 'AppleInsider'},\n",
       "   'author': 'news@appleinsider.com (William Gallagher)',\n",
       "   'title': 'AAPL opens market at highest price since Trump tariff bombshell',\n",
       "   'description': 'Apple opened trading on Monday, April 14, 2025, at its highest price since President Donald Trump first announced tariffs — despite White House officials warning that exemptions are temporary.Apple shares continue to rise on news of a tariff exemptionAfter a …',\n",
       "   'url': 'https://appleinsider.com/articles/25/04/14/aapl-opens-market-at-highest-price-since-trump-tariff-bombshell',\n",
       "   'urlToImage': 'https://photos5.appleinsider.com/gallery/63293-131525-63273-131459-63194-131305-Apple-Stock-xl-xl-xl.jpg',\n",
       "   'publishedAt': '2025-04-14T13:34:22Z',\n",
       "   'content': 'Apple opened trading on Monday, April 14, 2025, at its highest price since President Donald Trump first announced tariffs — despite White House officials warning that exemptions are temporary.\\r\\nAfter… [+2038 chars]'}]}"
      ]
     },
     "execution_count": 46,
     "metadata": {},
     "output_type": "execute_result"
    }
   ],
   "source": [
    "res"
   ]
  },
  {
   "cell_type": "markdown",
   "id": "f225537f",
   "metadata": {},
   "source": [
    "## Collect data via NewsData API"
   ]
  },
  {
   "cell_type": "code",
   "execution_count": null,
   "id": "b452a19b",
   "metadata": {},
   "outputs": [],
   "source": [
    "API_KEY = os.getenv('NEWS_DATA_API')\n",
    "main_url = (\n",
    "    \"https://newsdata.io/api/1/latest\"\n",
    "    \"?apikey={}\" \n",
    "    \"&q=AAPL\"\n",
    "    \"&language=en\" \n",
    "    \"&category=business\"\n",
    "    # \"&full_content=1\"\n",
    "    \"&removeduplicate=1\"\n",
    ").format(API_KEY)"
   ]
  },
  {
   "cell_type": "code",
   "execution_count": 95,
   "id": "359255eb",
   "metadata": {},
   "outputs": [
    {
     "name": "stdout",
     "output_type": "stream",
     "text": [
      "Number of iterations: 1\n",
      "Number of iterations: 2\n",
      "Number of iterations: 3\n",
      "Number of iterations: 4\n",
      "Number of iterations: 5\n",
      "Number of iterations: 6\n",
      "Number of iterations: 7\n",
      "Number of iterations: 8\n",
      "Number of iterations: 9\n",
      "Number of iterations: 10\n",
      "Number of iterations: 11\n",
      "Number of iterations: 12\n"
     ]
    }
   ],
   "source": [
    "n_iterations = 0\n",
    "result_list = []\n",
    "url = main_url\n",
    "while n_iterations<20:\n",
    "    response = requests.get(url)\n",
    "    data = response.json()\n",
    "    if 'results' in data.keys():\n",
    "        result_list += data['results']\n",
    "    if 'nextPage' not in data.keys():\n",
    "        break\n",
    "    else:\n",
    "        nextPageId = data['nextPage']\n",
    "        url = f\"{main_url}&page={nextPageId}\"\n",
    "        n_iterations += 1\n",
    "        print(f'Number of iterations: {n_iterations}')\n"
   ]
  },
  {
   "cell_type": "code",
   "execution_count": 113,
   "id": "89386210",
   "metadata": {},
   "outputs": [],
   "source": [
    "# Assuming result_list is a list of dicts where each dict has an 'article_id' key\n",
    "article_dict = {item['article_id']:item for item in result_list if 'article_id' in item}"
   ]
  },
  {
   "cell_type": "code",
   "execution_count": 116,
   "id": "183f0eaf",
   "metadata": {},
   "outputs": [
    {
     "name": "stdout",
     "output_type": "stream",
     "text": [
      "True\n"
     ]
    }
   ],
   "source": [
    "import pickle\n",
    "\n",
    "# Save article_dict to a pickle file\n",
    "with open('../data/article_dict.pkl', 'wb') as f:\n",
    "    pickle.dump(article_dict, f)\n",
    "\n",
    "# Load the article_dict back from the pickle file\n",
    "with open('../data/article_dict.pkl', 'rb') as f:\n",
    "    loaded_article_dict = pickle.load(f)\n",
    "\n",
    "# Check if the loaded dictionary is the same as the original\n",
    "print(loaded_article_dict == article_dict)  # Should print True if everything is okay"
   ]
  },
  {
   "cell_type": "code",
   "execution_count": 118,
   "id": "a59364b0",
   "metadata": {},
   "outputs": [
    {
     "name": "stderr",
     "output_type": "stream",
     "text": [
      "[nltk_data] Downloading package punkt_tab to\n",
      "[nltk_data]     /Users/giannisalexandrou/nltk_data...\n",
      "[nltk_data]   Package punkt_tab is already up-to-date!\n"
     ]
    },
    {
     "data": {
      "text/plain": [
       "True"
      ]
     },
     "execution_count": 118,
     "metadata": {},
     "output_type": "execute_result"
    }
   ],
   "source": [
    "import nltk\n",
    "nltk.download('punkt_tab')"
   ]
  },
  {
   "cell_type": "code",
   "execution_count": 128,
   "id": "3e4e0963",
   "metadata": {},
   "outputs": [
    {
     "name": "stdout",
     "output_type": "stream",
     "text": [
      "d7aa02673ca360f7a97d471201530e30 - Already collected\n",
      "339e1027f456beffa954cc954229a0d0 - Already collected\n",
      "edb6be1acba1228bf969cad98fbeae7e - Already collected\n",
      "131fe785a03e1f754b1996c261898f5e - Already collected\n",
      "8cbc2e5d3557846d1f13bf22eef9a528 - Already collected\n",
      "4c2a7c27d3f7f2350205248eb2cb1fee - Already collected\n",
      "903591631a7e1de8e2fc3529e8a6e781 - Already collected\n",
      "17fb64255c9a343e7d9cb98b5cc7e9a2 - Already collected\n",
      "72decafc256496c1005f226951e53f89 - Already collected\n",
      "8ea4c63bbb28ab0a6916371be9e53127 - Already collected\n",
      "5ab2e8db65106351a6570b20e69c4531 - Already collected\n",
      "904630d81c4518b4add0ef8cb56a19b9 - Already collected\n",
      "ccdbc000e0288ff308b409b4b9f69e35 - Error\n",
      "d1bab29172551c5620754c6d7024a427 - Done\n",
      "be1ac5646f2bd84489fc2459f5c20329 - Done\n",
      "971c742d0a071866ba481e3b73453566 - Done\n",
      "4dfc18b59e434803c21b74cf2f7ec051 - Done\n",
      "8acfb5b082d1e70dd409ab1d1541124e - Done\n",
      "e28fcec42c1af0430343cf5732eabf2e - Done\n",
      "7e40d7269c390f222da2ea95ecc1613f - Done\n",
      "3292233416e0453b530910feacfa7def - Done\n",
      "36b25e77f255e09435e4ce94a9be07da - Done\n",
      "ab632d2ffa41bdd2a8b7e860fd8e4451 - Done\n",
      "855f5997c3995083c348c010ebda340c - Done\n",
      "b164779ff9c6030e4674d357c8a5d12b - Done\n",
      "200298dea2e5a72f1a291a69bff5a72c - Done\n",
      "9f9e7bd30dd6f73085a50de3e04d2fd6 - Done\n",
      "01583023259f74ad19ad41dfd7def6c2 - Done\n",
      "86402311c309377820f5f46b01a35e47 - Done\n",
      "2f9a17afcd9babf12437d2ae6bd3ffa7 - Done\n",
      "f1598309d4e6075e7f9f3ac9c5f06418 - Done\n",
      "bf238c21aaed7bd7c4e8231996785aa1 - Done\n",
      "34d03ecef3fa57a5abec0458e3989d79 - Done\n",
      "4bee76457b7f6d083a290a4421de0990 - Done\n",
      "ea5be421f10fa03c0ae9ce136edd6f65 - Done\n",
      "5c347d57b446673919a09eeb8d6690df - Done\n",
      "cd9997780d48c133c52866d6ff984825 - Done\n",
      "69440cfe6d7b05c502ffe44342a3bfc7 - Done\n",
      "0019cc9045ed80e725862030082fbe66 - Done\n",
      "6f0ab227a2ca617559eb18a7b998e881 - Done\n",
      "b804b837d2e0b07f6cb4dfd587f4215a - Done\n",
      "ea55b09cc3d4dba895e4d7808fcf222b - Done\n",
      "f0b50be647bc645313001b304e9178e6 - Done\n",
      "d11938dfc424f142f35d048362f7bdd3 - Done\n",
      "f60068e7e0b1e9c028011151b33f8c0d - Done\n",
      "9bb24f12df3c7709cc6547a437adaf16 - Done\n",
      "510fa4375db82c2b4a62faa5034ddfd0 - Done\n",
      "58411106fb391a5ec5f11ca1e9ef5ef4 - Done\n",
      "98695f7c68d1d5ac124eab78340ff209 - Done\n",
      "bd3c2e64e73a0567acced94694529939 - Done\n",
      "8ef65536a4e11ca4919e24ab5f74aa4b - Done\n",
      "594bf0d9fa1be2766a7057662996ed3c - Done\n",
      "1417bfa38c5ca4cacb3953d95ad7079f - Done\n",
      "7391c07d6aeca7b0f7f3049103832c1e - Done\n",
      "207419ab6695b87492a9b0c536e10cac - Done\n",
      "78789746b2688b1782fca587f5eaa958 - Done\n",
      "75704dcc69abac2660e953b1249ca0e4 - Done\n",
      "b61866fa938ae4cfcae1550c81881215 - Done\n",
      "f670d0f1e6964978df46caab26ee0a76 - Done\n",
      "11633b6ff06146c21b9dc034c771f534 - Done\n",
      "e36ee79e69d5c026e36c6271c4c28b7c - Done\n",
      "5dd176e34949e3da55e3714a2dfcf90c - Done\n",
      "aea1c0eb92ffca3591c903aaffb5505d - Done\n",
      "105117cbe96312aca38af70bbf7b9093 - Done\n",
      "5bf706a8667c0a409e6a6c4dd51cd812 - Done\n",
      "0e882e23a53f02555286879e7112305e - Done\n",
      "074db7841df4e3e02c7a13b983319e6c - Done\n",
      "60e30269e410c1ae5cedb3b1305e49dc - Error\n",
      "bc40410ef422e8f8781f750b3193027c - Done\n",
      "0d693cc6754db7fcf64ff56b5c69de99 - Done\n",
      "fa9ea66d86018030be985b6b27691193 - Done\n",
      "1eb50b251c0bda7cc56b93df75398ab5 - Error\n",
      "7815ea194138de728759e2fb32566d01 - Done\n",
      "57170a8e05c49524ed2fa7e21022b775 - Error\n",
      "af4cdad8b612955e92c2403414c634bb - Error\n",
      "592790bdc039150e43dc6576392e73f1 - Done\n",
      "eadde6edbd5d68405b50cec2cce57bc4 - Done\n",
      "bf4d9fdfea3e9e2cdfddaaca3539f347 - Done\n",
      "10b287ff238935dc1488d488afbd587b - Done\n",
      "6932c38410ed64222eb181351d75b4da - Done\n",
      "011a9d7aca70c4b9bcc90f2c5b794495 - Done\n",
      "ab3996b870586fba022490570573704e - Done\n",
      "766c8f206c72b26f6bf8d37f082af157 - Done\n",
      "52fd225ef39d90beb23288a75c7cb059 - Done\n",
      "be6f06f0e9b1af285595f167add474aa - Done\n",
      "738464a900852cdd21badcb2d249a218 - Done\n",
      "f7b87b323b60d16528aba45a1f501dcd - Done\n",
      "1d13b372b4ffb9a673294bb2b967cc9b - Done\n",
      "1ef5b9b60deeb794a76f50b1ebdc8440 - Done\n",
      "2e4e6abe71cd9dfd0400a92418e93674 - Done\n",
      "43159987aee1be87ac362945ed0138e8 - Done\n",
      "a81c2d6805fdb2144b5f3a5a1c491260 - Done\n",
      "84c90e7c9aa1d8ddc807ff28a6365a2d - Done\n",
      "5aab3cbc755e15aa8d7245734243ab52 - Done\n",
      "c9c2ef3f1db5a845eb16c5b1e4564750 - Done\n",
      "f3090afbdb0b7eefddc50fb8a72bca9e - Done\n",
      "3608ef8d17ff5faf5a877ea185286718 - Done\n",
      "7590f2896f578b3f06bbe2aedac05487 - Done\n",
      "dace7ffb552e0a4451527b90ef3ed426 - Done\n",
      "fd98b714288443843cdbbe27d099fd3e - Done\n",
      "2dcc90ec8f117e568ad907e196129fe5 - Done\n",
      "dd4b436d5b2d913aaeafcbb84c41299f - Done\n",
      "891dfbcb151865ad74d7c1e68fa94d30 - Done\n",
      "13cb9744fcdabe78214f70b4cb034596 - Done\n",
      "cff84bc1a4d8c088e26d6703a556fddc - Done\n",
      "1529767714016fd3f35ce37fb9067847 - Done\n",
      "7253b6fa6d01bd37b4c8225dae6e2fed - Done\n",
      "7c200289d0fb1f16de1aa62d54515dc5 - Done\n",
      "8be0da398d6f9390e79048fe02c65428 - Done\n",
      "1f60e9ef8190a7a240616de9e5ecd2e2 - Done\n",
      "175d0c8ee7426a1574bfcf5624a2d9f5 - Done\n",
      "8e6f460857abd7f1c2f2031d89cf8dff - Done\n",
      "6e05a3a8240eaad9144949fb9a9620e8 - Done\n",
      "951e852860c1c03a30271e844c49c359 - Done\n",
      "644c491f2d76a0c40c8dab9427837ebd - Done\n",
      "088f104014552b2df5299ab8e58eae03 - Done\n",
      "19b5d69c70dc26896a89b9026df977f3 - Done\n"
     ]
    }
   ],
   "source": [
    "for article_id, article_dict_value in loaded_article_dict.items():\n",
    "    if article_id not in article_full_context.keys():\n",
    "        article_link = article_dict_value['link']\n",
    "\n",
    "        # Download and parse the article\n",
    "        article = Article(article_link)\n",
    "        article.download()\n",
    "        try: \n",
    "            article.parse()\n",
    "            article.nlp()  # This runs natural language processing to extract summary and keywords\n",
    "\n",
    "            # Extract context information\n",
    "            context_info = {\n",
    "                'title': article.title,\n",
    "                'authors': article.authors,\n",
    "                'publish_date': article.publish_date,\n",
    "                'summary': article.summary,\n",
    "                'keywords': article.keywords,\n",
    "                'text': article.text,\n",
    "                'top_image': article.top_image,\n",
    "                'movies': article.movies,\n",
    "                'url': url\n",
    "            }\n",
    "            if article_id not in article_full_context.keys():\n",
    "                article_full_context[article_id] = context_info\n",
    "            print(f\"{article_id} - Done\")\n",
    "        except:\n",
    "            print(f\"{article_id} - Error\")\n",
    "            pass\n",
    "    else:\n",
    "        print(f\"{article_id} - Already collected\")"
   ]
  },
  {
   "cell_type": "code",
   "execution_count": 139,
   "id": "b7f16690",
   "metadata": {},
   "outputs": [],
   "source": [
    "# Save article_dict to a pickle file\n",
    "with open('../data/article_id_full_context.pkl', 'wb') as f:\n",
    "    pickle.dump(article_full_context, f)"
   ]
  },
  {
   "cell_type": "code",
   "execution_count": 150,
   "id": "9cb4fd27",
   "metadata": {},
   "outputs": [
    {
     "data": {
      "text/plain": [
       "{'article_id': 'd7aa02673ca360f7a97d471201530e30',\n",
       " 'title': 'What Does the Market Think About Apple?',\n",
       " 'link': 'https://www.benzinga.com/insights/short-sellers/25/05/45387126/what-does-the-market-think-about-apple',\n",
       " 'keywords': ['bzi-shorthist',\n",
       "  'aapl',\n",
       "  'short sellers',\n",
       "  'benzinga',\n",
       "  'trading ideas',\n",
       "  'short ideas',\n",
       "  'us0378331005'],\n",
       " 'creator': ['Benzinga Insights'],\n",
       " 'description': \"Apple's (NYSE:AAPL) short percent of float has fallen 4.0% since its last report. The company recently reported that it has 108.60 million shares sold short, which is 0.72% of all regular shares that are available for trading. Based on its trading volume, it would take traders 2.29 days to cover their short positions on average.Why Short Interest MattersShort interest is the number of shares that have been sold short but have not yet been covered or closed out. Short selling is when a trader sells shares of a company they do not own, with the hope that the price will fall. Traders make money from short selling if the price ...Full story available on Benzinga.com\",\n",
       " 'content': 'ONLY AVAILABLE IN PAID PLANS',\n",
       " 'pubDate': '2025-05-13 18:00:31',\n",
       " 'pubDateTZ': 'UTC',\n",
       " 'image_url': None,\n",
       " 'video_url': None,\n",
       " 'source_id': 'benzinga',\n",
       " 'source_name': 'Benzinga',\n",
       " 'source_priority': 3903,\n",
       " 'source_url': 'https://www.benzinga.com',\n",
       " 'source_icon': 'https://i.bytvi.com/domain_icons/benzinga.png',\n",
       " 'language': 'english',\n",
       " 'country': ['united states of america'],\n",
       " 'category': ['business'],\n",
       " 'sentiment': 'ONLY AVAILABLE IN PROFESSIONAL AND CORPORATE PLANS',\n",
       " 'sentiment_stats': 'ONLY AVAILABLE IN PROFESSIONAL AND CORPORATE PLANS',\n",
       " 'ai_tag': 'ONLY AVAILABLE IN PROFESSIONAL AND CORPORATE PLANS',\n",
       " 'ai_region': 'ONLY AVAILABLE IN CORPORATE PLANS',\n",
       " 'ai_org': 'ONLY AVAILABLE IN CORPORATE PLANS',\n",
       " 'duplicate': False}"
      ]
     },
     "execution_count": 150,
     "metadata": {},
     "output_type": "execute_result"
    }
   ],
   "source": [
    "loaded_article_dict['d7aa02673ca360f7a97d471201530e30']"
   ]
  },
  {
   "cell_type": "code",
   "execution_count": 146,
   "id": "8c2b930b",
   "metadata": {},
   "outputs": [
    {
     "name": "stdout",
     "output_type": "stream",
     "text": [
      "Apple's AAPL short percent of float has fallen 4.0% since its last report. The company recently reported that it has 108.60 million shares sold short, which is 0.72% of all regular shares that are available for trading. Based on its trading volume, it would take traders 2.29 days to cover their short positions on average.\n",
      "\n",
      "Why Short Interest Matters\n",
      "\n",
      "Short interest is the number of shares that have been sold short but have not yet been covered or closed out. Short selling is when a trader sells shares of a company they do not own, with the hope that the price will fall. Traders make money from short selling if the price of the stock falls and they lose if it rises.\n",
      "\n",
      "Short interest is important to track because it can act as an indicator of market sentiment towards a particular stock. An increase in short interest can signal that investors have become more bearish, while a decrease in short interest can signal they have become more bullish.\n",
      "\n",
      "See Also: List of the most shorted stocks\n",
      "\n",
      "Apple Short Interest Graph (3 Months)\n",
      "\n",
      "As you can see from the chart above the percentage of shares that are sold short for Apple has declined since its last report. This does not mean that the stock is going to rise in the near-term but traders should be aware that less shares are being shorted.\n",
      "\n",
      "Comparing Apple's Short Interest Against Its Peers\n",
      "\n",
      "Peer comparison is a popular technique amongst analysts and investors for gauging how well a company is performing. A company's peer is another company that has similar characteristics to it, such as industry, size, age, and financial structure. You can find a company's peer group by reading its 10-K, proxy filing, or by doing your own similarity analysis.\n",
      "\n",
      "According to Benzinga Pro, Apple's peer group average for short interest as a percentage of float is 10.13%, which means the company has less short interest than most of its peers.\n",
      "\n",
      "Did you know that increasing short interest can actually be bullish for a stock? This post by Benzinga Money explains how you can profit from it.\n",
      "\n",
      "This article was generated by Benzinga's automated content engine and was reviewed by an editor.\n"
     ]
    }
   ],
   "source": [
    "print(article_full_context['d7aa02673ca360f7a97d471201530e30']['text'])"
   ]
  },
  {
   "cell_type": "code",
   "execution_count": 80,
   "id": "d63adb5e",
   "metadata": {},
   "outputs": [],
   "source": [
    "from newspaper import Article\n",
    "\n",
    "# Replace this with your target URL\n",
    "url = link\n",
    "# Download and parse the article\n",
    "article = Article(url)\n",
    "article.download()\n",
    "article.parse()\n",
    "article.nlp()  # This runs natural language processing to extract summary and keywords\n",
    "\n",
    "# Extract context information\n",
    "context_info = {\n",
    "    'title': article.title,\n",
    "    'authors': article.authors,\n",
    "    'publish_date': article.publish_date,\n",
    "    'summary': article.summary,\n",
    "    'keywords': article.keywords,\n",
    "    'text': article.text,\n",
    "    'top_image': article.top_image,\n",
    "    'movies': article.movies,\n",
    "    'url': url\n",
    "}\n",
    "\n",
    "# # Print the extracted information\n",
    "# for key, value in context_info.items():\n",
    "#     print(f\"{key}: {value}\\n\")"
   ]
  },
  {
   "cell_type": "code",
   "execution_count": 121,
   "id": "a4597478",
   "metadata": {},
   "outputs": [
    {
     "data": {
      "text/plain": [
       "{'title': 'What Does the Market Think About Apple? - Apple (NASDAQ:AAPL)',\n",
       " 'authors': ['Benzinga Insights'],\n",
       " 'publish_date': None,\n",
       " 'summary': \"The company recently reported that it has 108.60 million shares sold short, which is 0.72% of all regular shares that are available for trading.\\nWhy Short Interest MattersShort interest is the number of shares that have been sold short but have not yet been covered or closed out.\\nShort interest is important to track because it can act as an indicator of market sentiment towards a particular stock.\\nAn increase in short interest can signal that investors have become more bearish, while a decrease in short interest can signal they have become more bullish.\\nComparing Apple's Short Interest Against Its PeersPeer comparison is a popular technique amongst analysts and investors for gauging how well a company is performing.\",\n",
       " 'keywords': ['interest',\n",
       "  'company',\n",
       "  'trading',\n",
       "  'sold',\n",
       "  'shares',\n",
       "  'peer',\n",
       "  'apples',\n",
       "  'stock',\n",
       "  'nasdaqaapl',\n",
       "  'apple',\n",
       "  'does',\n",
       "  'traders',\n",
       "  'think',\n",
       "  'short',\n",
       "  'market'],\n",
       " 'text': \"Apple's AAPL short percent of float has fallen 4.0% since its last report. The company recently reported that it has 108.60 million shares sold short, which is 0.72% of all regular shares that are available for trading. Based on its trading volume, it would take traders 2.29 days to cover their short positions on average.\\n\\nWhy Short Interest Matters\\n\\nShort interest is the number of shares that have been sold short but have not yet been covered or closed out. Short selling is when a trader sells shares of a company they do not own, with the hope that the price will fall. Traders make money from short selling if the price of the stock falls and they lose if it rises.\\n\\nShort interest is important to track because it can act as an indicator of market sentiment towards a particular stock. An increase in short interest can signal that investors have become more bearish, while a decrease in short interest can signal they have become more bullish.\\n\\nSee Also: List of the most shorted stocks\\n\\nApple Short Interest Graph (3 Months)\\n\\nAs you can see from the chart above the percentage of shares that are sold short for Apple has declined since its last report. This does not mean that the stock is going to rise in the near-term but traders should be aware that less shares are being shorted.\\n\\nComparing Apple's Short Interest Against Its Peers\\n\\nPeer comparison is a popular technique amongst analysts and investors for gauging how well a company is performing. A company's peer is another company that has similar characteristics to it, such as industry, size, age, and financial structure. You can find a company's peer group by reading its 10-K, proxy filing, or by doing your own similarity analysis.\\n\\nAccording to Benzinga Pro, Apple's peer group average for short interest as a percentage of float is 10.13%, which means the company has less short interest than most of its peers.\\n\\nDid you know that increasing short interest can actually be bullish for a stock? This post by Benzinga Money explains how you can profit from it.\\n\\nThis article was generated by Benzinga's automated content engine and was reviewed by an editor.\",\n",
       " 'top_image': 'https://www.benzinga.com/next-assets/images/schema-image-default.png',\n",
       " 'movies': [],\n",
       " 'url': 'https://www.benzinga.com/insights/short-sellers/25/05/45387126/what-does-the-market-think-about-apple'}"
      ]
     },
     "execution_count": 121,
     "metadata": {},
     "output_type": "execute_result"
    }
   ],
   "source": [
    "context_info"
   ]
  },
  {
   "cell_type": "code",
   "execution_count": null,
   "id": "1dfb864c",
   "metadata": {},
   "outputs": [],
   "source": [
    "response = requests.get(url)\n",
    "data = response.json()\n",
    "\n",
    "for article in data.get(\"results\", []):\n",
    "    print(\"Title:\", article.get(\"title\"))\n",
    "    print(\"Published:\", article.get(\"pubDate\"))\n",
    "    print(\"Link:\", article.get(\"link\"))\n",
    "    print(\"Content:\", article.get(\"content\"))\n",
    "    print(\"-\" * 40)"
   ]
  },
  {
   "cell_type": "markdown",
   "id": "0f06ea56",
   "metadata": {},
   "source": [
    "## Collect data via feedparser and newspaper"
   ]
  },
  {
   "cell_type": "code",
   "execution_count": 33,
   "id": "7f019fea",
   "metadata": {},
   "outputs": [],
   "source": [
    "import feedparser\n",
    "from newspaper import Article\n",
    "import pandas as pd\n",
    "from tqdm import tqdm\n",
    "import time\n"
   ]
  },
  {
   "cell_type": "code",
   "execution_count": 36,
   "id": "fa2ca832",
   "metadata": {},
   "outputs": [
    {
     "data": {
      "text/plain": [
       "'https://news.google.com/rss/search?q=AAPL+stock&hl=en-US&gl=US&ceid=US:en'"
      ]
     },
     "execution_count": 36,
     "metadata": {},
     "output_type": "execute_result"
    }
   ],
   "source": [
    "feed_url"
   ]
  },
  {
   "cell_type": "code",
   "execution_count": 38,
   "id": "f48667b5",
   "metadata": {},
   "outputs": [],
   "source": [
    "article.parse()"
   ]
  },
  {
   "cell_type": "code",
   "execution_count": 39,
   "id": "acb29c79",
   "metadata": {},
   "outputs": [
    {
     "name": "stderr",
     "output_type": "stream",
     "text": [
      "Processing tickers: 100%|██████████| 1/1 [00:02<00:00,  2.30s/it]\n"
     ]
    }
   ],
   "source": [
    "\n",
    "# --- SETTINGS ---\n",
    "tickers = [\"AAPL\"]       # Your stock portfolio\n",
    "max_articles_per_ticker = 1            # Limit per stock\n",
    "user_agent = \"Mozilla/5.0\"               # Help avoid blocking\n",
    "pause_between_requests = 1               # To be polite to servers\n",
    "\n",
    "# --- STORAGE ---\n",
    "articles_data = []\n",
    "\n",
    "# --- MAIN LOOP ---\n",
    "for ticker in tqdm(tickers, desc=\"Processing tickers\"):\n",
    "    query = f\"{ticker} stock\"\n",
    "    feed_url = f\"https://news.google.com/rss/search?q={query.replace(' ', '+')}&hl=en-US&gl=US&ceid=US:en\"\n",
    "\n",
    "    feed = feedparser.parse(feed_url)\n",
    "    entries = feed.entries[:max_articles_per_ticker]\n",
    "\n",
    "    for entry in entries:\n",
    "        url = entry.link\n",
    "\n",
    "        try:\n",
    "            article = Article(url, language='en', browser_user_agent=user_agent)\n",
    "            article.download()\n",
    "            article.parse()\n",
    "\n",
    "            articles_data.append({\n",
    "                \"ticker\": ticker,\n",
    "                \"title\": article.title,\n",
    "                \"text\": article.text,\n",
    "                \"published\": entry.published if \"published\" in entry else None,\n",
    "                \"source_url\": url\n",
    "            })\n",
    "\n",
    "            time.sleep(pause_between_requests)\n",
    "\n",
    "        except Exception as e:\n",
    "            print(f\"Failed to process article: {url}\\nError: {e}\")"
   ]
  },
  {
   "cell_type": "code",
   "execution_count": 42,
   "id": "fa0bcae7",
   "metadata": {},
   "outputs": [
    {
     "data": {
      "text/plain": [
       "'We use cookies and data to\\n\\nDeliver and maintain Google services\\n\\nTrack outages and protect against spam, fraud, and abuse\\n\\nMeasure audience engagement and site statistics to understand how our services are used and enhance the quality of those services\\n\\nIf you choose to “Accept all,” we will also use cookies and data to\\n\\nDevelop and improve new services\\n\\nDeliver and measure the effectiveness of ads\\n\\nShow personalized content, depending on your settings\\n\\nShow personalized ads, depending on your settings\\n\\nIf you choose to “Reject all,” we will not use cookies for these additional purposes.\\n\\nNon-personalized content is influenced by things like the content you’re currently viewing, activity in your active Search session, and your location. Non-personalized ads are influenced by the content you’re currently viewing and your general location. Personalized content and ads can also include more relevant results, recommendations, and tailored ads based on past activity from this browser, like previous Google searches. We also use cookies and data to tailor the experience to be age-appropriate, if relevant.\\n\\nSelect “More options” to see additional information, including details about managing your privacy settings. You can also visit g.co/privacytools at any time.'"
      ]
     },
     "execution_count": 42,
     "metadata": {},
     "output_type": "execute_result"
    }
   ],
   "source": [
    "df['text'][0]"
   ]
  },
  {
   "cell_type": "code",
   "execution_count": 44,
   "id": "a8b011e5",
   "metadata": {},
   "outputs": [
    {
     "data": {
      "text/plain": [
       "{'title': 'Shocking China news sends Apple stock surging today - TheStreet',\n",
       " 'title_detail': {'type': 'text/plain',\n",
       "  'language': None,\n",
       "  'base': 'https://news.google.com/rss/search?q=AAPL+stock&hl=en-US&gl=US&ceid=US:en',\n",
       "  'value': 'Shocking China news sends Apple stock surging today - TheStreet'},\n",
       " 'links': [{'rel': 'alternate',\n",
       "   'type': 'text/html',\n",
       "   'href': 'https://news.google.com/rss/articles/CBMikwFBVV95cUxNR3FIVjJyVjNyMnFIakZZcDBpR0tOQ185bVlaMUxCdlcxQnhJeE5udG5yaC1tNHJ3V0E5LWRmU21rdWVoWjNPeDhYWVVXd3p1dHhoRDlNbXZLTGVVbC1OUnJIZUV3b3hCbUV6alFSM3laTjYxTTZscDhFaW15Q1VxOFRLZ3JYdUU1QllyOVRPM05oVE0?oc=5'}],\n",
       " 'link': 'https://news.google.com/rss/articles/CBMikwFBVV95cUxNR3FIVjJyVjNyMnFIakZZcDBpR0tOQ185bVlaMUxCdlcxQnhJeE5udG5yaC1tNHJ3V0E5LWRmU21rdWVoWjNPeDhYWVVXd3p1dHhoRDlNbXZLTGVVbC1OUnJIZUV3b3hCbUV6alFSM3laTjYxTTZscDhFaW15Q1VxOFRLZ3JYdUU1QllyOVRPM05oVE0?oc=5',\n",
       " 'id': 'CBMikwFBVV95cUxNR3FIVjJyVjNyMnFIakZZcDBpR0tOQ185bVlaMUxCdlcxQnhJeE5udG5yaC1tNHJ3V0E5LWRmU21rdWVoWjNPeDhYWVVXd3p1dHhoRDlNbXZLTGVVbC1OUnJIZUV3b3hCbUV6alFSM3laTjYxTTZscDhFaW15Q1VxOFRLZ3JYdUU1QllyOVRPM05oVE0',\n",
       " 'guidislink': False,\n",
       " 'published': 'Mon, 12 May 2025 14:51:04 GMT',\n",
       " 'published_parsed': time.struct_time(tm_year=2025, tm_mon=5, tm_mday=12, tm_hour=14, tm_min=51, tm_sec=4, tm_wday=0, tm_yday=132, tm_isdst=0),\n",
       " 'summary': '<a href=\"https://news.google.com/rss/articles/CBMikwFBVV95cUxNR3FIVjJyVjNyMnFIakZZcDBpR0tOQ185bVlaMUxCdlcxQnhJeE5udG5yaC1tNHJ3V0E5LWRmU21rdWVoWjNPeDhYWVVXd3p1dHhoRDlNbXZLTGVVbC1OUnJIZUV3b3hCbUV6alFSM3laTjYxTTZscDhFaW15Q1VxOFRLZ3JYdUU1QllyOVRPM05oVE0?oc=5\" target=\"_blank\">Shocking China news sends Apple stock surging today</a>&nbsp;&nbsp;<font color=\"#6f6f6f\">TheStreet</font>',\n",
       " 'summary_detail': {'type': 'text/html',\n",
       "  'language': None,\n",
       "  'base': 'https://news.google.com/rss/search?q=AAPL+stock&hl=en-US&gl=US&ceid=US:en',\n",
       "  'value': '<a href=\"https://news.google.com/rss/articles/CBMikwFBVV95cUxNR3FIVjJyVjNyMnFIakZZcDBpR0tOQ185bVlaMUxCdlcxQnhJeE5udG5yaC1tNHJ3V0E5LWRmU21rdWVoWjNPeDhYWVVXd3p1dHhoRDlNbXZLTGVVbC1OUnJIZUV3b3hCbUV6alFSM3laTjYxTTZscDhFaW15Q1VxOFRLZ3JYdUU1QllyOVRPM05oVE0?oc=5\" target=\"_blank\">Shocking China news sends Apple stock surging today</a>&nbsp;&nbsp;<font color=\"#6f6f6f\">TheStreet</font>'},\n",
       " 'source': {'href': 'https://www.thestreet.com', 'title': 'TheStreet'}}"
      ]
     },
     "execution_count": 44,
     "metadata": {},
     "output_type": "execute_result"
    }
   ],
   "source": [
    "entry"
   ]
  },
  {
   "cell_type": "code",
   "execution_count": 40,
   "id": "7a8457f5",
   "metadata": {},
   "outputs": [
    {
     "name": "stdout",
     "output_type": "stream",
     "text": [
      "  ticker                title  \\\n",
      "0   AAPL  Before you continue   \n",
      "\n",
      "                                                text  \\\n",
      "0  We use cookies and data to\\n\\nDeliver and main...   \n",
      "\n",
      "                       published  \\\n",
      "0  Mon, 12 May 2025 14:51:04 GMT   \n",
      "\n",
      "                                          source_url  \n",
      "0  https://news.google.com/rss/articles/CBMikwFBV...  \n"
     ]
    }
   ],
   "source": [
    "# --- SAVE TO DATAFRAME ---\n",
    "df = pd.DataFrame(articles_data)\n",
    "print(df.head())"
   ]
  },
  {
   "cell_type": "code",
   "execution_count": null,
   "id": "0fc25b6e",
   "metadata": {},
   "outputs": [],
   "source": [
    "\n",
    "\n",
    "# --- OPTIONAL: SAVE TO CSV ---\n",
    "df.to_csv(\"stock_news_articles.csv\", index=False)"
   ]
  },
  {
   "cell_type": "markdown",
   "id": "456122ed",
   "metadata": {},
   "source": [
    "## Collect Data by using Scraping tools"
   ]
  },
  {
   "cell_type": "code",
   "execution_count": 22,
   "id": "ad9e868e",
   "metadata": {},
   "outputs": [],
   "source": [
    "import requests\n",
    "from bs4 import BeautifulSoup\n",
    "import time\n",
    "\n",
    "base_url = f\"https://finance.yahoo.com/quote/{portfolio}/news?p={portfolio}\"\n",
    "headers = {\n",
    "    \"User-Agent\": \"Mozilla/5.0\"\n",
    "}\n",
    "\n",
    "response = requests.get(base_url, headers=headers)\n",
    "soup = BeautifulSoup(response.text, \"html.parser\")\n",
    "\n",
    "# Find news article containers\n",
    "articles = soup.find_all(\"li\", {\"class\": \"js-stream-content\"})\n",
    "\n"
   ]
  },
  {
   "cell_type": "code",
   "execution_count": 25,
   "id": "6e4ecd50",
   "metadata": {},
   "outputs": [
    {
     "data": {
      "text/plain": [
       "[]"
      ]
     },
     "execution_count": 25,
     "metadata": {},
     "output_type": "execute_result"
    }
   ],
   "source": [
    "articles"
   ]
  },
  {
   "cell_type": "code",
   "execution_count": null,
   "id": "43cf2f84",
   "metadata": {},
   "outputs": [],
   "source": []
  },
  {
   "cell_type": "code",
   "execution_count": 26,
   "id": "d1e96c6b",
   "metadata": {},
   "outputs": [
    {
     "data": {
      "text/plain": [
       "['https://finance.yahoo.com/news/apples-iphone-price-hike-gamble-135818852.html',\n",
       " 'https://finance.yahoo.com/news/sign-up-for-yahoo-finances-morning-brief-174158888.html/',\n",
       " 'https://finance.yahoo.com/news/nvidia-stock-surges-tops-3-trillion-market-cap-amid-flurry-of-trade-optimism-162038379.html',\n",
       " 'https://finance.yahoo.com/news/apple-introduces-accessibility-features-including-133408991.html',\n",
       " 'https://finance.yahoo.com/news/apple-bets-brain-signals-boost-194421106.html',\n",
       " 'https://finance.yahoo.com/news/apple-adds-180-billion-market-102852135.html',\n",
       " 'https://finance.yahoo.com/news/analyst-highlights-distrubing-dissappointing-development-125952059.html',\n",
       " 'https://finance.yahoo.com/news/live/live-president-trump-reiterates-threat-of-25-tariffs-on-canada-mexico-as-deadline-looms-191201171.html',\n",
       " 'https://finance.yahoo.com/news/fed-track-162200263.html',\n",
       " 'https://finance.yahoo.com/news/tesla-stock-vs-apple-stock-085000004.html',\n",
       " 'https://finance.yahoo.com/news/4-warren-buffett-stocks-over-131500605.html',\n",
       " 'https://finance.yahoo.com/news/apple-wants-people-control-devices-120000379.html',\n",
       " 'https://finance.yahoo.com/news/google-unveils-major-android-redesign-170026729.html',\n",
       " 'https://finance.yahoo.com/news/why-apple-aapl-international-revenue-131608080.html',\n",
       " 'https://finance.yahoo.com/news/apple-unveils-powerful-accessibility-features-120000384.html',\n",
       " 'https://finance.yahoo.com/news/nvda-aapl-meta-plan-harness-160741027.html',\n",
       " 'https://finance.yahoo.com/news/',\n",
       " 'https://finance.yahoo.com/news/analyst-consultant-clash-apple-inc-140347329.html',\n",
       " 'https://finance.yahoo.com/news/tap-mag-7-etfs-temporary-104600541.html',\n",
       " 'https://finance.yahoo.com/news/chatgpt-everything-know-ai-powered-210339686.html']"
      ]
     },
     "execution_count": 26,
     "metadata": {},
     "output_type": "execute_result"
    }
   ],
   "source": [
    "# Yahoo Finance uses dynamic content loading; static requests may not fetch the news list.\n",
    "# Try finding all <a> tags with news links directly as a fallback.\n",
    "\n",
    "links = []\n",
    "for a in soup.find_all('a', href=True):\n",
    "    href = a['href']\n",
    "    if href.startswith('https://finance.yahoo.com/news/'):\n",
    "        links.append(href)\n",
    "\n",
    "links = list(set(links))  # Remove duplicates if any\n",
    "links"
   ]
  },
  {
   "cell_type": "code",
   "execution_count": 27,
   "id": "63c51232",
   "metadata": {},
   "outputs": [
    {
     "data": {
      "text/plain": [
       "20"
      ]
     },
     "execution_count": 27,
     "metadata": {},
     "output_type": "execute_result"
    }
   ],
   "source": [
    "len(links)"
   ]
  },
  {
   "cell_type": "code",
   "execution_count": null,
   "id": "f6631af7",
   "metadata": {},
   "outputs": [],
   "source": [
    "news_data = []\n",
    "for article in articles:\n",
    "    # Extract headline and link\n",
    "    headline_tag = article.find(\"h3\")\n",
    "    if headline_tag and headline_tag.find(\"a\"):\n",
    "        headline = headline_tag.text.strip()\n",
    "        link = \"https://finance.yahoo.com\" + headline_tag.find(\"a\")[\"href\"]\n",
    "\n",
    "        # Extract publication date (if available)\n",
    "        date_tag = article.find(\"time\")\n",
    "        pub_date = date_tag[\"datetime\"] if date_tag else \"N/A\"\n",
    "\n",
    "        news_data.append({\"headline\": headline, \"link\": link, \"pub_date\": pub_date})\n"
   ]
  }
 ],
 "metadata": {
  "kernelspec": {
   "display_name": "trading-agent-Iwjhydeb",
   "language": "python",
   "name": "python3"
  },
  "language_info": {
   "codemirror_mode": {
    "name": "ipython",
    "version": 3
   },
   "file_extension": ".py",
   "mimetype": "text/x-python",
   "name": "python",
   "nbconvert_exporter": "python",
   "pygments_lexer": "ipython3",
   "version": "3.12.6"
  }
 },
 "nbformat": 4,
 "nbformat_minor": 5
}
